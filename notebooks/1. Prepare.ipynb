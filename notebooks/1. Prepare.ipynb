{
 "cells": [
  {
   "cell_type": "code",
   "execution_count": 207,
   "id": "4e4e59f3",
   "metadata": {},
   "outputs": [],
   "source": [
    "import pandas as pd\n",
    "import numpy as np\n",
    "import pickle\n",
    "import joblib"
   ]
  },
  {
   "cell_type": "code",
   "execution_count": 208,
   "id": "91dac1eb",
   "metadata": {},
   "outputs": [],
   "source": [
    "df = pd.read_pickle(r\"..\\data\\internim\\X_train.pkl\")\n",
    "df = pd.DataFrame(df.T, columns= [\"Comments\"])"
   ]
  },
  {
   "cell_type": "code",
   "execution_count": 209,
   "id": "72a14340",
   "metadata": {},
   "outputs": [
    {
     "data": {
      "text/plain": [
       "(14726, 1)"
      ]
     },
     "execution_count": 209,
     "metadata": {},
     "output_type": "execute_result"
    }
   ],
   "source": [
    "df.shape"
   ]
  },
  {
   "cell_type": "code",
   "execution_count": 210,
   "id": "a3f4f531",
   "metadata": {},
   "outputs": [
    {
     "data": {
      "text/plain": [
       "Index(['Comments'], dtype='object')"
      ]
     },
     "execution_count": 210,
     "metadata": {},
     "output_type": "execute_result"
    }
   ],
   "source": [
    "df.columns"
   ]
  },
  {
   "cell_type": "code",
   "execution_count": 211,
   "id": "ac623ae5",
   "metadata": {},
   "outputs": [
    {
     "data": {
      "application/vnd.microsoft.datawrangler.viewer.v0+json": {
       "columns": [
        {
         "name": "index",
         "rawType": "int64",
         "type": "integer"
        },
        {
         "name": "Comments",
         "rawType": "object",
         "type": "unknown"
        }
       ],
       "ref": "84151be8-7bf8-4f8a-ae4d-144a580e327b",
       "rows": [
        [
         "0",
         "subscribe or ill kick you also dont forget that starting now random people that by merch will get a golden ticket in their package if you get a ticket lets just say that something fun will happen"
        ],
        [
         "1",
         "hey thats a really great tutorial 5 minutes is all it took thank you"
        ],
        [
         "2",
         "thanks for all the great work you folks do"
        ],
        [
         "3",
         "2323 la relajación es importante 18kissxuno los mortales abian apreciado tan hermosa mujer 1555 setacy hyper 1112 sun hotter 1112 hopi sweeter 0018 joonie cooler 1800 yoongi butter 1555 amoy monks 2323 son unos de los mejores conciertos no puede ir pero de tan solo verlos desde pantalla se que estuvo sorprendente  las elecciones cinematográficas y artísticas son brillantes referencias culturales europeas realmente interesantes ojalá"
        ],
        [
         "4",
         "literature review definition a critical recap of what has already been researched on a topic why do a literature review 1 to find out for yourself whats already known about the topic 2 to give your reader a critical overview of what you found 3 to find out whats missing gaps"
        ],
        [
         "5",
         "types of comments under every lofi video 1 people wishing strangers a nice day 2 100 reasons to stay alive 3 people sharing what small successes they achieved today 4 people describing cute and relaxing activities to listen lofi to 5 people being positively surprised how supportive the lofi community i"
        ],
        [
         "6",
         "kid icarus uprising is my favourite game of all time the combat is fun the weapons are cool the characters are funny and layered and the story and world building is fantastic its been half the time there was between the last two games in the series but i will gladly wait another 10 years to get more kid icarus goodness"
        ],
        [
         "7",
         "you have me drooling and wishing i was there in every single video you cook everything so perfectly "
        ],
        [
         "8",
         "its mindblowing how youre able to explain so much in a single video while being completely accurate easy to understand and also funny i think youre one of the best content creators on youtube and this might be one of the best tech videos ive ever seen go fireship"
        ],
        [
         "9",
         "lubię twoje filmy"
        ],
        [
         "10",
         "this man crenshaw probably had access to this type of material when he was a seal on active duty knows the gravity these documents held for him to standup and defend someone who violated the protocol associated with these materials is an insult to the men and women who secure these documents and keep us safe"
        ],
        [
         "11",
         "dear denielle thanks so much for your speed in which you remind me of preparing cambridge c1 english exam i failed it a couple of times however i never have lost my perseverance to do the exam over and over again as a financial analyst with reference to the return of investment time spent this is my worst deal however when it comes to understanding humanities becoming comfortable with ambiguity and making me a rounded person the answer to this valuable investment is definitely yes well appreciated"
        ],
        [
         "12",
         "no need na mag asukal diet is the key"
        ],
        [
         "13",
         "this is really cool my only gripe is that it’s only 2 player local and not 4 when wireless and online are 4 playeralthough it’s likely frame rate issues hopefully they add 4 player local in the future but other than that the game looks like great fun"
        ],
        [
         "14",
         "who else still doesn’t have the ps5"
        ],
        [
         "15",
         "not sure if its mentioned in this video but something i feel should be said in every tips video like this dont do your dream project first you will ruin it if you dont give up first"
        ],
        [
         "16",
         "yep this is exactly how apple picks winners and losers those they hand pick get early devices lots of traffic and the corresponding revenue along with great seorecommendation positions for future placements theres tremendous value in access to them and apple knows it most of this goes undisclosed by those whom apple picks for review units and access"
        ],
        [
         "17",
         "im going to watch indiana jones and the batcave of spiderman when it comes out"
        ],
        [
         "18",
         "that little “circle” that you found in google maps is called like “bigfoots thumbprint” or something like that but i think that is a maze"
        ],
        [
         "19",
         "i love the work you do and these show make me imagine what we don’t know could be true"
        ],
        [
         "20",
         "1 like 1 kolor więcej ► kanał mojego brata sebek"
        ],
        [
         "21",
         "thank you for finally putting persona 5 on the switch i have been waiting"
        ],
        [
         "22",
         "thanks for the informative video just a caveat on the salary comparison data science often requires graduatelevel education masters or phdconsiders it an asset whereas software engineers do not or if without a graduate degree its not uncommon to work as a data analyst for 12 years before becoming a data scientist so while the average salary may be higher for data scientists theres likely some additional educationwork experience factored in"
        ],
        [
         "23",
         "thank gta for putting some classics on the radio hits different when your cruising down the highway and this comes on"
        ],
        [
         "24",
         "pros it is fun cons you have to work don’t thank me"
        ],
        [
         "25",
         "this guy never fails to entertain us"
        ],
        [
         "26",
         "lágrimas nesse trailer e principalmente na imagem do chadwick "
        ],
        [
         "27",
         "its more funny when you guys say subtle things and manage to stay in the rooms for longer like 240"
        ],
        [
         "28",
         "0339 tell me about yourself 0435 why is there a gap in your resume 0549 what motivates you 0648 why are you applying for this position 0748 walk us through your resume 0855 why do you want to work here 0932 why are you the best person for the job 1025 where do you see in 5 years 1055 what interests you about this position 1201 why are you a good fit for this position 1316 tell me how you dealt with a tough challenge 1428 why should we hire you 1611 what are your weaknesses 1716 tell me a time when you went above and beyond the job 1840 tell me a time when you reached a goal 1912 why did you leave your last job 2035 what are your strengths 2144 what are you most proud of 2305 describe your current job 2343 what is your management style 2518 tell me about a mistake you made 2627 what are you passionate about 2755 what do you know about our company 2925 how did you hear about this job 3043 what are your salary requirements 3240 how do you deal with pressure 3358 are you open to relocating 3552 what is your ideal dream job 3730 why are you changing careers 3947 do you have any questions for me 4140 how long does your hiring process take 4225 what is key to succeeding in this role"
        ],
        [
         "29",
         "this was absolutely amazing thank you so much for sharing your valuable knowledge"
        ],
        [
         "30",
         "that boy and girl just at the end of the report theyre so happy in spite of the invasion of their country those two are great "
        ],
        [
         "31",
         "i love that basically everything has a vegetarian option in india i’m kind of jealous"
        ],
        [
         "32",
         "keep uploading more videos like this its amazing to know about u and about gandhinagard"
        ],
        [
         "33",
         "লোক দেখে পছন্দ করাটা ভালোলাগা আর চরিত্র দেখে প্রেমে পড়াটা ভালোবাসা"
        ],
        [
         "34",
         "this guy is so fascinating i love him he’s so passionate about what he teaches and i love it i’m sure his students are so grateful for him he showed us so much cool stuff"
        ],
        [
         "35",
         "omg i remember the halloween makeup video im happy that you collaborated again she is so talented and sweet and youre looking amazing thank you for another very relaxing video "
        ],
        [
         "36",
         "all you guys bring me happiness and joy to my days when i watch you"
        ],
        [
         "37",
         "can we all agree that these videos are never disappointing "
        ],
        [
         "38",
         "pretty good summary i disagree with the statement that it isnt a science however cs researchers routinely make falsifiable claims about the real world and then test those claims through experiments in fact thats how im spending my winter holiday like if i solve this problem with method x instead of method y i get a more reliable answer of course if you only have empirical evidence ie its been tested in the real world your case is weaker than if you have a mathematical proof so in that way it might be that some problems cs folks tackle are scientific empirical questions until they can be handled more rigorously with mathematics but some big popular branches of cs like machine learning and ai advance primarily through empirical rather than mathematic evidence whether mathematics itself is a science i will leave to the writers of dictionaries"
        ],
        [
         "39",
         "i cant even tell you how much more i enjoy using tensorflow 20 than i did using the previous versions thank you for all the great improvements a special thank you for tensorboard a very useful and fun tool"
        ],
        [
         "40",
         "react to the full movie you will definitely enjoy it"
        ],
        [
         "41",
         "how can you not like this man he’s going to keep it 100 every time he opens his mouth"
        ],
        [
         "42",
         "the lighting effects look really cool"
        ],
        [
         "43",
         "no way did we get a ms marvel trailer before thor love and thunder"
        ],
        [
         "44",
         "the moment polar bear appeared behind the seal and the subsequent chase with long moment of suspension when we know nothing about the outcome is some of the finest nature moment captured on film"
        ],
        [
         "45",
         "best opening frome white i ever seen"
        ],
        [
         "46",
         "telugu film industry lo hero character ni different shades lo chupinchgala okey oka director mana puri garu "
        ],
        [
         "47",
         "trump the warrant cannot be released because it needs to be audited"
        ],
        [
         "48",
         "im thinking about getting into a computer career this is my first time hearing like different titles about working on computers thank you so much for sharing this video i just need to find the right title that will fit me with dealing with computers because i like working all computers"
        ],
        [
         "49",
         "this vocalise of ave maria was composed by igor krutoy especially for dimash it goes without saying that this newest version of the traditional songs is almost beyond belief in its simplicity and power nobody can pull off a vocalise as well as dimash the greatest vocalist i have ever heard in my 80 years on this planet and ive heard some really great singers along the way and in every genre ever conceived what a blessing to experience this voice this incomparable talent btw very nice reaction"
        ]
       ],
       "shape": {
        "columns": 1,
        "rows": 14726
       }
      },
      "text/plain": [
       "0        subscribe or ill kick you also dont forget tha...\n",
       "1        hey thats a really great tutorial 5 minutes is...\n",
       "2               thanks for all the great work you folks do\n",
       "3        2323 la relajación es importante 18kissxuno lo...\n",
       "4        literature review definition a critical recap ...\n",
       "                               ...                        \n",
       "14721    education is used to separate and maintain the...\n",
       "14722    i respect every one who were involved in this ...\n",
       "14723    this is such an emotional experience to know w...\n",
       "14724    can we just take a moment to appreciate how mu...\n",
       "14725    yeah but if you buy a rechargeable battery pac...\n",
       "Name: Comments, Length: 14726, dtype: object"
      ]
     },
     "execution_count": 211,
     "metadata": {},
     "output_type": "execute_result"
    }
   ],
   "source": [
    "df[\"Comments\"]"
   ]
  },
  {
   "cell_type": "code",
   "execution_count": 212,
   "id": "b2a4bdbf",
   "metadata": {},
   "outputs": [
    {
     "data": {
      "application/vnd.microsoft.datawrangler.viewer.v0+json": {
       "columns": [
        {
         "name": "index",
         "rawType": "object",
         "type": "string"
        },
        {
         "name": "0",
         "rawType": "int64",
         "type": "integer"
        }
       ],
       "ref": "cdf328fd-b7f0-4f8c-9e3b-f59b3932244f",
       "rows": [
        [
         "Comments",
         "35"
        ]
       ],
       "shape": {
        "columns": 1,
        "rows": 1
       }
      },
      "text/plain": [
       "Comments    35\n",
       "dtype: int64"
      ]
     },
     "execution_count": 212,
     "metadata": {},
     "output_type": "execute_result"
    }
   ],
   "source": [
    "df.isnull().sum()"
   ]
  },
  {
   "cell_type": "code",
   "execution_count": 213,
   "id": "f1ae1b78",
   "metadata": {},
   "outputs": [
    {
     "data": {
      "text/plain": [
       "361"
      ]
     },
     "execution_count": 213,
     "metadata": {},
     "output_type": "execute_result"
    }
   ],
   "source": [
    "df.duplicated().sum()"
   ]
  },
  {
   "cell_type": "code",
   "execution_count": 214,
   "id": "9766d50b",
   "metadata": {},
   "outputs": [],
   "source": [
    "df.dropna(inplace=True)\n",
    "df.drop_duplicates(inplace=True)"
   ]
  },
  {
   "cell_type": "code",
   "execution_count": 215,
   "id": "1e1cfd23",
   "metadata": {},
   "outputs": [],
   "source": [
    "df[\"Comments\"] = df[\"Comments\"].str.replace(r\"[^A-Za-z]\", \" \", regex=True)"
   ]
  },
  {
   "cell_type": "code",
   "execution_count": 216,
   "id": "daf8a243",
   "metadata": {},
   "outputs": [
    {
     "data": {
      "application/vnd.microsoft.datawrangler.viewer.v0+json": {
       "columns": [
        {
         "name": "index",
         "rawType": "object",
         "type": "string"
        },
        {
         "name": "0",
         "rawType": "int64",
         "type": "integer"
        }
       ],
       "ref": "5288d103-0c2b-4fd6-b662-83eb7b2ba5fa",
       "rows": [
        [
         "Comments",
         "0"
        ]
       ],
       "shape": {
        "columns": 1,
        "rows": 1
       }
      },
      "text/plain": [
       "Comments    0\n",
       "dtype: int64"
      ]
     },
     "execution_count": 216,
     "metadata": {},
     "output_type": "execute_result"
    }
   ],
   "source": [
    "df.isnull().sum()"
   ]
  },
  {
   "cell_type": "code",
   "execution_count": 217,
   "id": "12e6c4a6",
   "metadata": {},
   "outputs": [
    {
     "data": {
      "text/plain": [
       "116"
      ]
     },
     "execution_count": 217,
     "metadata": {},
     "output_type": "execute_result"
    }
   ],
   "source": [
    "df.duplicated().sum()"
   ]
  },
  {
   "cell_type": "code",
   "execution_count": 218,
   "id": "7d02209a",
   "metadata": {},
   "outputs": [],
   "source": [
    "df.drop_duplicates(inplace=True)"
   ]
  },
  {
   "cell_type": "code",
   "execution_count": 219,
   "id": "4e30bd8a",
   "metadata": {},
   "outputs": [
    {
     "data": {
      "application/vnd.microsoft.datawrangler.viewer.v0+json": {
       "columns": [
        {
         "name": "index",
         "rawType": "int64",
         "type": "integer"
        },
        {
         "name": "Comments",
         "rawType": "object",
         "type": "string"
        }
       ],
       "ref": "1c419e8c-9a40-4b23-a70e-4e1e7a527c91",
       "rows": [
        [
         "0",
         "subscribe or ill kick you also dont forget that starting now random people that by merch will get a golden ticket in their package if you get a ticket lets just say that something fun will happen"
        ],
        [
         "1",
         "hey thats a really great tutorial   minutes is all it took thank you"
        ],
        [
         "2",
         "thanks for all the great work you folks do"
        ],
        [
         "3",
         "     la relajaci n es importante   kissxuno los mortales abian apreciado tan hermosa mujer      setacy hyper      sun hotter      hopi sweeter      joonie cooler      yoongi butter      amoy monks      son unos de los mejores conciertos no puede ir pero de tan solo verlos desde pantalla se que estuvo sorprendente  las elecciones cinematogr ficas y art sticas son brillantes referencias culturales europeas realmente interesantes ojal "
        ],
        [
         "4",
         "literature review definition a critical recap of what has already been researched on a topic why do a literature review   to find out for yourself whats already known about the topic   to give your reader a critical overview of what you found   to find out whats missing gaps"
        ],
        [
         "5",
         "types of comments under every lofi video   people wishing strangers a nice day       reasons to stay alive   people sharing what small successes they achieved today   people describing cute and relaxing activities to listen lofi to   people being positively surprised how supportive the lofi community i"
        ],
        [
         "6",
         "kid icarus uprising is my favourite game of all time the combat is fun the weapons are cool the characters are funny and layered and the story and world building is fantastic its been half the time there was between the last two games in the series but i will gladly wait another    years to get more kid icarus goodness"
        ],
        [
         "7",
         "you have me drooling and wishing i was there in every single video you cook everything so perfectly "
        ],
        [
         "8",
         "its mindblowing how youre able to explain so much in a single video while being completely accurate easy to understand and also funny i think youre one of the best content creators on youtube and this might be one of the best tech videos ive ever seen go fireship"
        ],
        [
         "9",
         "lubi  twoje filmy"
        ],
        [
         "10",
         "this man crenshaw probably had access to this type of material when he was a seal on active duty knows the gravity these documents held for him to standup and defend someone who violated the protocol associated with these materials is an insult to the men and women who secure these documents and keep us safe"
        ],
        [
         "11",
         "dear denielle thanks so much for your speed in which you remind me of preparing cambridge c  english exam i failed it a couple of times however i never have lost my perseverance to do the exam over and over again as a financial analyst with reference to the return of investment time spent this is my worst deal however when it comes to understanding humanities becoming comfortable with ambiguity and making me a rounded person the answer to this valuable investment is definitely yes well appreciated"
        ],
        [
         "12",
         "no need na mag asukal diet is the key"
        ],
        [
         "13",
         "this is really cool my only gripe is that it s only   player local and not   when wireless and online are   playeralthough it s likely frame rate issues hopefully they add   player local in the future but other than that the game looks like great fun"
        ],
        [
         "14",
         "who else still doesn t have the ps "
        ],
        [
         "15",
         "not sure if its mentioned in this video but something i feel should be said in every tips video like this dont do your dream project first you will ruin it if you dont give up first"
        ],
        [
         "16",
         "yep this is exactly how apple picks winners and losers those they hand pick get early devices lots of traffic and the corresponding revenue along with great seorecommendation positions for future placements theres tremendous value in access to them and apple knows it most of this goes undisclosed by those whom apple picks for review units and access"
        ],
        [
         "17",
         "im going to watch indiana jones and the batcave of spiderman when it comes out"
        ],
        [
         "18",
         "that little  circle  that you found in google maps is called like  bigfoots thumbprint  or something like that but i think that is a maze"
        ],
        [
         "19",
         "i love the work you do and these show make me imagine what we don t know could be true"
        ],
        [
         "20",
         "  like   kolor wi cej   kana  mojego brata sebek"
        ],
        [
         "21",
         "thank you for finally putting persona   on the switch i have been waiting"
        ],
        [
         "22",
         "thanks for the informative video just a caveat on the salary comparison data science often requires graduatelevel education masters or phdconsiders it an asset whereas software engineers do not or if without a graduate degree its not uncommon to work as a data analyst for    years before becoming a data scientist so while the average salary may be higher for data scientists theres likely some additional educationwork experience factored in"
        ],
        [
         "23",
         "thank gta for putting some classics on the radio hits different when your cruising down the highway and this comes on"
        ],
        [
         "24",
         "pros it is fun cons you have to work don t thank me"
        ],
        [
         "25",
         "this guy never fails to entertain us"
        ],
        [
         "26",
         "l grimas nesse trailer e principalmente na imagem do chadwick "
        ],
        [
         "27",
         "its more funny when you guys say subtle things and manage to stay in the rooms for longer like    "
        ],
        [
         "28",
         "     tell me about yourself      why is there a gap in your resume      what motivates you      why are you applying for this position      walk us through your resume      why do you want to work here      why are you the best person for the job      where do you see in   years      what interests you about this position      why are you a good fit for this position      tell me how you dealt with a tough challenge      why should we hire you      what are your weaknesses      tell me a time when you went above and beyond the job      tell me a time when you reached a goal      why did you leave your last job      what are your strengths      what are you most proud of      describe your current job      what is your management style      tell me about a mistake you made      what are you passionate about      what do you know about our company      how did you hear about this job      what are your salary requirements      how do you deal with pressure      are you open to relocating      what is your ideal dream job      why are you changing careers      do you have any questions for me      how long does your hiring process take      what is key to succeeding in this role"
        ],
        [
         "29",
         "this was absolutely amazing thank you so much for sharing your valuable knowledge"
        ],
        [
         "30",
         "that boy and girl just at the end of the report theyre so happy in spite of the invasion of their country those two are great "
        ],
        [
         "31",
         "i love that basically everything has a vegetarian option in india i m kind of jealous"
        ],
        [
         "32",
         "keep uploading more videos like this its amazing to know about u and about gandhinagard"
        ],
        [
         "33",
         "                                                                   "
        ],
        [
         "34",
         "this guy is so fascinating i love him he s so passionate about what he teaches and i love it i m sure his students are so grateful for him he showed us so much cool stuff"
        ],
        [
         "35",
         "omg i remember the halloween makeup video im happy that you collaborated again she is so talented and sweet and youre looking amazing thank you for another very relaxing video "
        ],
        [
         "36",
         "all you guys bring me happiness and joy to my days when i watch you"
        ],
        [
         "37",
         "can we all agree that these videos are never disappointing "
        ],
        [
         "38",
         "pretty good summary i disagree with the statement that it isnt a science however cs researchers routinely make falsifiable claims about the real world and then test those claims through experiments in fact thats how im spending my winter holiday like if i solve this problem with method x instead of method y i get a more reliable answer of course if you only have empirical evidence ie its been tested in the real world your case is weaker than if you have a mathematical proof so in that way it might be that some problems cs folks tackle are scientific empirical questions until they can be handled more rigorously with mathematics but some big popular branches of cs like machine learning and ai advance primarily through empirical rather than mathematic evidence whether mathematics itself is a science i will leave to the writers of dictionaries"
        ],
        [
         "39",
         "i cant even tell you how much more i enjoy using tensorflow    than i did using the previous versions thank you for all the great improvements a special thank you for tensorboard a very useful and fun tool"
        ],
        [
         "40",
         "react to the full movie you will definitely enjoy it"
        ],
        [
         "41",
         "how can you not like this man he s going to keep it     every time he opens his mouth"
        ],
        [
         "42",
         "the lighting effects look really cool"
        ],
        [
         "43",
         "no way did we get a ms marvel trailer before thor love and thunder"
        ],
        [
         "44",
         "the moment polar bear appeared behind the seal and the subsequent chase with long moment of suspension when we know nothing about the outcome is some of the finest nature moment captured on film"
        ],
        [
         "45",
         "best opening frome white i ever seen"
        ],
        [
         "46",
         "telugu film industry lo hero character ni different shades lo chupinchgala okey oka director mana puri garu "
        ],
        [
         "47",
         "trump the warrant cannot be released because it needs to be audited"
        ],
        [
         "48",
         "im thinking about getting into a computer career this is my first time hearing like different titles about working on computers thank you so much for sharing this video i just need to find the right title that will fit me with dealing with computers because i like working all computers"
        ],
        [
         "49",
         "this vocalise of ave maria was composed by igor krutoy especially for dimash it goes without saying that this newest version of the traditional songs is almost beyond belief in its simplicity and power nobody can pull off a vocalise as well as dimash the greatest vocalist i have ever heard in my    years on this planet and ive heard some really great singers along the way and in every genre ever conceived what a blessing to experience this voice this incomparable talent btw very nice reaction"
        ]
       ],
       "shape": {
        "columns": 1,
        "rows": 14248
       }
      },
      "text/plain": [
       "0        subscribe or ill kick you also dont forget tha...\n",
       "1        hey thats a really great tutorial   minutes is...\n",
       "2               thanks for all the great work you folks do\n",
       "3             la relajaci n es importante   kissxuno lo...\n",
       "4        literature review definition a critical recap ...\n",
       "                               ...                        \n",
       "14720    one thing that this is proof of is that mankin...\n",
       "14721    education is used to separate and maintain the...\n",
       "14723    this is such an emotional experience to know w...\n",
       "14724    can we just take a moment to appreciate how mu...\n",
       "14725    yeah but if you buy a rechargeable battery pac...\n",
       "Name: Comments, Length: 14248, dtype: object"
      ]
     },
     "execution_count": 219,
     "metadata": {},
     "output_type": "execute_result"
    }
   ],
   "source": [
    "df[\"Comments\"]"
   ]
  },
  {
   "cell_type": "code",
   "execution_count": 220,
   "id": "112f47fc",
   "metadata": {},
   "outputs": [],
   "source": [
    "import nltk\n",
    "from nltk.corpus import stopwords\n",
    "stop_words = set(stopwords.words('english'))\n",
    "\n",
    "def cleaner(text):\n",
    "    text = text.lower()\n",
    "    words = text.split()\n",
    "    filtered_words = [word for word in words if word not in stop_words]\n",
    "    return \" \".join(filtered_words)"
   ]
  },
  {
   "cell_type": "code",
   "execution_count": 221,
   "id": "e4b939a3",
   "metadata": {},
   "outputs": [
    {
     "data": {
      "text/plain": [
       "Index(['Comments'], dtype='object')"
      ]
     },
     "execution_count": 221,
     "metadata": {},
     "output_type": "execute_result"
    }
   ],
   "source": [
    "df.columns"
   ]
  },
  {
   "cell_type": "code",
   "execution_count": 222,
   "id": "bf156156",
   "metadata": {},
   "outputs": [],
   "source": [
    "df[\"Comments\"] = df[\"Comments\"].apply(cleaner)"
   ]
  },
  {
   "cell_type": "code",
   "execution_count": 223,
   "id": "285c34ae",
   "metadata": {},
   "outputs": [
    {
     "data": {
      "application/vnd.microsoft.datawrangler.viewer.v0+json": {
       "columns": [
        {
         "name": "index",
         "rawType": "int64",
         "type": "integer"
        },
        {
         "name": "Comments",
         "rawType": "object",
         "type": "string"
        }
       ],
       "ref": "ba0bd784-9cd0-44f2-b2b6-8525a77218df",
       "rows": [
        [
         "0",
         "subscribe ill kick also dont forget starting random people merch get golden ticket package get ticket lets say something fun happen"
        ],
        [
         "1",
         "hey thats really great tutorial minutes took thank"
        ],
        [
         "2",
         "thanks great work folks"
        ],
        [
         "3",
         "la relajaci n es importante kissxuno los mortales abian apreciado tan hermosa mujer setacy hyper sun hotter hopi sweeter joonie cooler yoongi butter amoy monks son unos de los mejores conciertos puede ir pero de tan solo verlos desde pantalla se que estuvo sorprendente las elecciones cinematogr ficas art sticas son brillantes referencias culturales europeas realmente interesantes ojal"
        ],
        [
         "4",
         "literature review definition critical recap already researched topic literature review find whats already known topic give reader critical overview found find whats missing gaps"
        ],
        [
         "5",
         "types comments every lofi video people wishing strangers nice day reasons stay alive people sharing small successes achieved today people describing cute relaxing activities listen lofi people positively surprised supportive lofi community"
        ],
        [
         "6",
         "kid icarus uprising favourite game time combat fun weapons cool characters funny layered story world building fantastic half time last two games series gladly wait another years get kid icarus goodness"
        ],
        [
         "7",
         "drooling wishing every single video cook everything perfectly"
        ],
        [
         "8",
         "mindblowing youre able explain much single video completely accurate easy understand also funny think youre one best content creators youtube might one best tech videos ive ever seen go fireship"
        ],
        [
         "9",
         "lubi twoje filmy"
        ],
        [
         "10",
         "man crenshaw probably access type material seal active duty knows gravity documents held standup defend someone violated protocol associated materials insult men women secure documents keep us safe"
        ],
        [
         "11",
         "dear denielle thanks much speed remind preparing cambridge c english exam failed couple times however never lost perseverance exam financial analyst reference return investment time spent worst deal however comes understanding humanities becoming comfortable ambiguity making rounded person answer valuable investment definitely yes well appreciated"
        ],
        [
         "12",
         "need na mag asukal diet key"
        ],
        [
         "13",
         "really cool gripe player local wireless online playeralthough likely frame rate issues hopefully add player local future game looks like great fun"
        ],
        [
         "14",
         "else still ps"
        ],
        [
         "15",
         "sure mentioned video something feel said every tips video like dont dream project first ruin dont give first"
        ],
        [
         "16",
         "yep exactly apple picks winners losers hand pick get early devices lots traffic corresponding revenue along great seorecommendation positions future placements theres tremendous value access apple knows goes undisclosed apple picks review units access"
        ],
        [
         "17",
         "im going watch indiana jones batcave spiderman comes"
        ],
        [
         "18",
         "little circle found google maps called like bigfoots thumbprint something like think maze"
        ],
        [
         "19",
         "love work show make imagine know could true"
        ],
        [
         "20",
         "like kolor wi cej kana mojego brata sebek"
        ],
        [
         "21",
         "thank finally putting persona switch waiting"
        ],
        [
         "22",
         "thanks informative video caveat salary comparison data science often requires graduatelevel education masters phdconsiders asset whereas software engineers without graduate degree uncommon work data analyst years becoming data scientist average salary may higher data scientists theres likely additional educationwork experience factored"
        ],
        [
         "23",
         "thank gta putting classics radio hits different cruising highway comes"
        ],
        [
         "24",
         "pros fun cons work thank"
        ],
        [
         "25",
         "guy never fails entertain us"
        ],
        [
         "26",
         "l grimas nesse trailer e principalmente na imagem chadwick"
        ],
        [
         "27",
         "funny guys say subtle things manage stay rooms longer like"
        ],
        [
         "28",
         "tell gap resume motivates applying position walk us resume want work best person job see years interests position good fit position tell dealt tough challenge hire weaknesses tell time went beyond job tell time reached goal leave last job strengths proud describe current job management style tell mistake made passionate know company hear job salary requirements deal pressure open relocating ideal dream job changing careers questions long hiring process take key succeeding role"
        ],
        [
         "29",
         "absolutely amazing thank much sharing valuable knowledge"
        ],
        [
         "30",
         "boy girl end report theyre happy spite invasion country two great"
        ],
        [
         "31",
         "love basically everything vegetarian option india kind jealous"
        ],
        [
         "32",
         "keep uploading videos like amazing know u gandhinagard"
        ],
        [
         "33",
         ""
        ],
        [
         "34",
         "guy fascinating love passionate teaches love sure students grateful showed us much cool stuff"
        ],
        [
         "35",
         "omg remember halloween makeup video im happy collaborated talented sweet youre looking amazing thank another relaxing video"
        ],
        [
         "36",
         "guys bring happiness joy days watch"
        ],
        [
         "37",
         "agree videos never disappointing"
        ],
        [
         "38",
         "pretty good summary disagree statement isnt science however cs researchers routinely make falsifiable claims real world test claims experiments fact thats im spending winter holiday like solve problem method x instead method get reliable answer course empirical evidence ie tested real world case weaker mathematical proof way might problems cs folks tackle scientific empirical questions handled rigorously mathematics big popular branches cs like machine learning ai advance primarily empirical rather mathematic evidence whether mathematics science leave writers dictionaries"
        ],
        [
         "39",
         "cant even tell much enjoy using tensorflow using previous versions thank great improvements special thank tensorboard useful fun tool"
        ],
        [
         "40",
         "react full movie definitely enjoy"
        ],
        [
         "41",
         "like man going keep every time opens mouth"
        ],
        [
         "42",
         "lighting effects look really cool"
        ],
        [
         "43",
         "way get ms marvel trailer thor love thunder"
        ],
        [
         "44",
         "moment polar bear appeared behind seal subsequent chase long moment suspension know nothing outcome finest nature moment captured film"
        ],
        [
         "45",
         "best opening frome white ever seen"
        ],
        [
         "46",
         "telugu film industry lo hero character ni different shades lo chupinchgala okey oka director mana puri garu"
        ],
        [
         "47",
         "trump warrant cannot released needs audited"
        ],
        [
         "48",
         "im thinking getting computer career first time hearing like different titles working computers thank much sharing video need find right title fit dealing computers like working computers"
        ],
        [
         "49",
         "vocalise ave maria composed igor krutoy especially dimash goes without saying newest version traditional songs almost beyond belief simplicity power nobody pull vocalise well dimash greatest vocalist ever heard years planet ive heard really great singers along way every genre ever conceived blessing experience voice incomparable talent btw nice reaction"
        ]
       ],
       "shape": {
        "columns": 1,
        "rows": 14248
       }
      },
      "text/html": [
       "<div>\n",
       "<style scoped>\n",
       "    .dataframe tbody tr th:only-of-type {\n",
       "        vertical-align: middle;\n",
       "    }\n",
       "\n",
       "    .dataframe tbody tr th {\n",
       "        vertical-align: top;\n",
       "    }\n",
       "\n",
       "    .dataframe thead th {\n",
       "        text-align: right;\n",
       "    }\n",
       "</style>\n",
       "<table border=\"1\" class=\"dataframe\">\n",
       "  <thead>\n",
       "    <tr style=\"text-align: right;\">\n",
       "      <th></th>\n",
       "      <th>Comments</th>\n",
       "    </tr>\n",
       "  </thead>\n",
       "  <tbody>\n",
       "    <tr>\n",
       "      <th>0</th>\n",
       "      <td>subscribe ill kick also dont forget starting r...</td>\n",
       "    </tr>\n",
       "    <tr>\n",
       "      <th>1</th>\n",
       "      <td>hey thats really great tutorial minutes took t...</td>\n",
       "    </tr>\n",
       "    <tr>\n",
       "      <th>2</th>\n",
       "      <td>thanks great work folks</td>\n",
       "    </tr>\n",
       "    <tr>\n",
       "      <th>3</th>\n",
       "      <td>la relajaci n es importante kissxuno los morta...</td>\n",
       "    </tr>\n",
       "    <tr>\n",
       "      <th>4</th>\n",
       "      <td>literature review definition critical recap al...</td>\n",
       "    </tr>\n",
       "    <tr>\n",
       "      <th>...</th>\n",
       "      <td>...</td>\n",
       "    </tr>\n",
       "    <tr>\n",
       "      <th>14720</th>\n",
       "      <td>one thing proof mankind lot smarter lot advanc...</td>\n",
       "    </tr>\n",
       "    <tr>\n",
       "      <th>14721</th>\n",
       "      <td>education used separate maintain social classe...</td>\n",
       "    </tr>\n",
       "    <tr>\n",
       "      <th>14723</th>\n",
       "      <td>emotional experience know feels like life dang...</td>\n",
       "    </tr>\n",
       "    <tr>\n",
       "      <th>14724</th>\n",
       "      <td>take moment appreciate much time effort put vi...</td>\n",
       "    </tr>\n",
       "    <tr>\n",
       "      <th>14725</th>\n",
       "      <td>yeah buy rechargeable battery pack xb controll...</td>\n",
       "    </tr>\n",
       "  </tbody>\n",
       "</table>\n",
       "<p>14248 rows × 1 columns</p>\n",
       "</div>"
      ],
      "text/plain": [
       "                                                Comments\n",
       "0      subscribe ill kick also dont forget starting r...\n",
       "1      hey thats really great tutorial minutes took t...\n",
       "2                                thanks great work folks\n",
       "3      la relajaci n es importante kissxuno los morta...\n",
       "4      literature review definition critical recap al...\n",
       "...                                                  ...\n",
       "14720  one thing proof mankind lot smarter lot advanc...\n",
       "14721  education used separate maintain social classe...\n",
       "14723  emotional experience know feels like life dang...\n",
       "14724  take moment appreciate much time effort put vi...\n",
       "14725  yeah buy rechargeable battery pack xb controll...\n",
       "\n",
       "[14248 rows x 1 columns]"
      ]
     },
     "execution_count": 223,
     "metadata": {},
     "output_type": "execute_result"
    }
   ],
   "source": [
    "df"
   ]
  },
  {
   "cell_type": "code",
   "execution_count": 224,
   "id": "ec548f2b",
   "metadata": {},
   "outputs": [
    {
     "data": {
      "text/plain": [
       "163"
      ]
     },
     "execution_count": 224,
     "metadata": {},
     "output_type": "execute_result"
    }
   ],
   "source": [
    "df.duplicated().sum()"
   ]
  },
  {
   "cell_type": "code",
   "execution_count": 225,
   "id": "f9b80415",
   "metadata": {},
   "outputs": [
    {
     "data": {
      "application/vnd.microsoft.datawrangler.viewer.v0+json": {
       "columns": [
        {
         "name": "index",
         "rawType": "object",
         "type": "string"
        },
        {
         "name": "0",
         "rawType": "int64",
         "type": "integer"
        }
       ],
       "ref": "57e32d75-8d24-422a-9a01-51ea2d59ed19",
       "rows": [
        [
         "Comments",
         "0"
        ]
       ],
       "shape": {
        "columns": 1,
        "rows": 1
       }
      },
      "text/plain": [
       "Comments    0\n",
       "dtype: int64"
      ]
     },
     "execution_count": 225,
     "metadata": {},
     "output_type": "execute_result"
    }
   ],
   "source": [
    "df.isnull().sum()"
   ]
  },
  {
   "cell_type": "code",
   "execution_count": 226,
   "id": "3c0771ae",
   "metadata": {},
   "outputs": [
    {
     "data": {
      "application/vnd.microsoft.datawrangler.viewer.v0+json": {
       "columns": [
        {
         "name": "index",
         "rawType": "int64",
         "type": "integer"
        },
        {
         "name": "Comments",
         "rawType": "object",
         "type": "string"
        }
       ],
       "ref": "f1d2d374-8356-4ddc-be87-d0530821fb35",
       "rows": [
        [
         "0",
         "subscribe ill kick also dont forget starting random people merch get golden ticket package get ticket lets say something fun happen"
        ],
        [
         "1",
         "hey thats really great tutorial minutes took thank"
        ],
        [
         "2",
         "thanks great work folks"
        ],
        [
         "3",
         "la relajaci n es importante kissxuno los mortales abian apreciado tan hermosa mujer setacy hyper sun hotter hopi sweeter joonie cooler yoongi butter amoy monks son unos de los mejores conciertos puede ir pero de tan solo verlos desde pantalla se que estuvo sorprendente las elecciones cinematogr ficas art sticas son brillantes referencias culturales europeas realmente interesantes ojal"
        ],
        [
         "4",
         "literature review definition critical recap already researched topic literature review find whats already known topic give reader critical overview found find whats missing gaps"
        ],
        [
         "5",
         "types comments every lofi video people wishing strangers nice day reasons stay alive people sharing small successes achieved today people describing cute relaxing activities listen lofi people positively surprised supportive lofi community"
        ],
        [
         "6",
         "kid icarus uprising favourite game time combat fun weapons cool characters funny layered story world building fantastic half time last two games series gladly wait another years get kid icarus goodness"
        ],
        [
         "7",
         "drooling wishing every single video cook everything perfectly"
        ],
        [
         "8",
         "mindblowing youre able explain much single video completely accurate easy understand also funny think youre one best content creators youtube might one best tech videos ive ever seen go fireship"
        ],
        [
         "9",
         "lubi twoje filmy"
        ],
        [
         "10",
         "man crenshaw probably access type material seal active duty knows gravity documents held standup defend someone violated protocol associated materials insult men women secure documents keep us safe"
        ],
        [
         "11",
         "dear denielle thanks much speed remind preparing cambridge c english exam failed couple times however never lost perseverance exam financial analyst reference return investment time spent worst deal however comes understanding humanities becoming comfortable ambiguity making rounded person answer valuable investment definitely yes well appreciated"
        ],
        [
         "12",
         "need na mag asukal diet key"
        ],
        [
         "13",
         "really cool gripe player local wireless online playeralthough likely frame rate issues hopefully add player local future game looks like great fun"
        ],
        [
         "14",
         "else still ps"
        ],
        [
         "15",
         "sure mentioned video something feel said every tips video like dont dream project first ruin dont give first"
        ],
        [
         "16",
         "yep exactly apple picks winners losers hand pick get early devices lots traffic corresponding revenue along great seorecommendation positions future placements theres tremendous value access apple knows goes undisclosed apple picks review units access"
        ],
        [
         "17",
         "im going watch indiana jones batcave spiderman comes"
        ],
        [
         "18",
         "little circle found google maps called like bigfoots thumbprint something like think maze"
        ],
        [
         "19",
         "love work show make imagine know could true"
        ],
        [
         "20",
         "like kolor wi cej kana mojego brata sebek"
        ],
        [
         "21",
         "thank finally putting persona switch waiting"
        ],
        [
         "22",
         "thanks informative video caveat salary comparison data science often requires graduatelevel education masters phdconsiders asset whereas software engineers without graduate degree uncommon work data analyst years becoming data scientist average salary may higher data scientists theres likely additional educationwork experience factored"
        ],
        [
         "23",
         "thank gta putting classics radio hits different cruising highway comes"
        ],
        [
         "24",
         "pros fun cons work thank"
        ],
        [
         "25",
         "guy never fails entertain us"
        ],
        [
         "26",
         "l grimas nesse trailer e principalmente na imagem chadwick"
        ],
        [
         "27",
         "funny guys say subtle things manage stay rooms longer like"
        ],
        [
         "28",
         "tell gap resume motivates applying position walk us resume want work best person job see years interests position good fit position tell dealt tough challenge hire weaknesses tell time went beyond job tell time reached goal leave last job strengths proud describe current job management style tell mistake made passionate know company hear job salary requirements deal pressure open relocating ideal dream job changing careers questions long hiring process take key succeeding role"
        ],
        [
         "29",
         "absolutely amazing thank much sharing valuable knowledge"
        ],
        [
         "30",
         "boy girl end report theyre happy spite invasion country two great"
        ],
        [
         "31",
         "love basically everything vegetarian option india kind jealous"
        ],
        [
         "32",
         "keep uploading videos like amazing know u gandhinagard"
        ],
        [
         "33",
         ""
        ],
        [
         "34",
         "guy fascinating love passionate teaches love sure students grateful showed us much cool stuff"
        ],
        [
         "35",
         "omg remember halloween makeup video im happy collaborated talented sweet youre looking amazing thank another relaxing video"
        ],
        [
         "36",
         "guys bring happiness joy days watch"
        ],
        [
         "37",
         "agree videos never disappointing"
        ],
        [
         "38",
         "pretty good summary disagree statement isnt science however cs researchers routinely make falsifiable claims real world test claims experiments fact thats im spending winter holiday like solve problem method x instead method get reliable answer course empirical evidence ie tested real world case weaker mathematical proof way might problems cs folks tackle scientific empirical questions handled rigorously mathematics big popular branches cs like machine learning ai advance primarily empirical rather mathematic evidence whether mathematics science leave writers dictionaries"
        ],
        [
         "39",
         "cant even tell much enjoy using tensorflow using previous versions thank great improvements special thank tensorboard useful fun tool"
        ],
        [
         "40",
         "react full movie definitely enjoy"
        ],
        [
         "41",
         "like man going keep every time opens mouth"
        ],
        [
         "42",
         "lighting effects look really cool"
        ],
        [
         "43",
         "way get ms marvel trailer thor love thunder"
        ],
        [
         "44",
         "moment polar bear appeared behind seal subsequent chase long moment suspension know nothing outcome finest nature moment captured film"
        ],
        [
         "45",
         "best opening frome white ever seen"
        ],
        [
         "46",
         "telugu film industry lo hero character ni different shades lo chupinchgala okey oka director mana puri garu"
        ],
        [
         "47",
         "trump warrant cannot released needs audited"
        ],
        [
         "48",
         "im thinking getting computer career first time hearing like different titles working computers thank much sharing video need find right title fit dealing computers like working computers"
        ],
        [
         "49",
         "vocalise ave maria composed igor krutoy especially dimash goes without saying newest version traditional songs almost beyond belief simplicity power nobody pull vocalise well dimash greatest vocalist ever heard years planet ive heard really great singers along way every genre ever conceived blessing experience voice incomparable talent btw nice reaction"
        ]
       ],
       "shape": {
        "columns": 1,
        "rows": 14248
       }
      },
      "text/html": [
       "<div>\n",
       "<style scoped>\n",
       "    .dataframe tbody tr th:only-of-type {\n",
       "        vertical-align: middle;\n",
       "    }\n",
       "\n",
       "    .dataframe tbody tr th {\n",
       "        vertical-align: top;\n",
       "    }\n",
       "\n",
       "    .dataframe thead th {\n",
       "        text-align: right;\n",
       "    }\n",
       "</style>\n",
       "<table border=\"1\" class=\"dataframe\">\n",
       "  <thead>\n",
       "    <tr style=\"text-align: right;\">\n",
       "      <th></th>\n",
       "      <th>Comments</th>\n",
       "    </tr>\n",
       "  </thead>\n",
       "  <tbody>\n",
       "    <tr>\n",
       "      <th>0</th>\n",
       "      <td>subscribe ill kick also dont forget starting r...</td>\n",
       "    </tr>\n",
       "    <tr>\n",
       "      <th>1</th>\n",
       "      <td>hey thats really great tutorial minutes took t...</td>\n",
       "    </tr>\n",
       "    <tr>\n",
       "      <th>2</th>\n",
       "      <td>thanks great work folks</td>\n",
       "    </tr>\n",
       "    <tr>\n",
       "      <th>3</th>\n",
       "      <td>la relajaci n es importante kissxuno los morta...</td>\n",
       "    </tr>\n",
       "    <tr>\n",
       "      <th>4</th>\n",
       "      <td>literature review definition critical recap al...</td>\n",
       "    </tr>\n",
       "    <tr>\n",
       "      <th>...</th>\n",
       "      <td>...</td>\n",
       "    </tr>\n",
       "    <tr>\n",
       "      <th>14720</th>\n",
       "      <td>one thing proof mankind lot smarter lot advanc...</td>\n",
       "    </tr>\n",
       "    <tr>\n",
       "      <th>14721</th>\n",
       "      <td>education used separate maintain social classe...</td>\n",
       "    </tr>\n",
       "    <tr>\n",
       "      <th>14723</th>\n",
       "      <td>emotional experience know feels like life dang...</td>\n",
       "    </tr>\n",
       "    <tr>\n",
       "      <th>14724</th>\n",
       "      <td>take moment appreciate much time effort put vi...</td>\n",
       "    </tr>\n",
       "    <tr>\n",
       "      <th>14725</th>\n",
       "      <td>yeah buy rechargeable battery pack xb controll...</td>\n",
       "    </tr>\n",
       "  </tbody>\n",
       "</table>\n",
       "<p>14248 rows × 1 columns</p>\n",
       "</div>"
      ],
      "text/plain": [
       "                                                Comments\n",
       "0      subscribe ill kick also dont forget starting r...\n",
       "1      hey thats really great tutorial minutes took t...\n",
       "2                                thanks great work folks\n",
       "3      la relajaci n es importante kissxuno los morta...\n",
       "4      literature review definition critical recap al...\n",
       "...                                                  ...\n",
       "14720  one thing proof mankind lot smarter lot advanc...\n",
       "14721  education used separate maintain social classe...\n",
       "14723  emotional experience know feels like life dang...\n",
       "14724  take moment appreciate much time effort put vi...\n",
       "14725  yeah buy rechargeable battery pack xb controll...\n",
       "\n",
       "[14248 rows x 1 columns]"
      ]
     },
     "execution_count": 226,
     "metadata": {},
     "output_type": "execute_result"
    }
   ],
   "source": [
    "df"
   ]
  },
  {
   "cell_type": "code",
   "execution_count": 227,
   "id": "d55801f1",
   "metadata": {},
   "outputs": [
    {
     "data": {
      "text/plain": [
       "['..\\\\data\\\\internim\\\\X_train_clean.pkl']"
      ]
     },
     "execution_count": 227,
     "metadata": {},
     "output_type": "execute_result"
    }
   ],
   "source": [
    "joblib.dump(df, \"..\\data\\internim\\X_train_clean.pkl\")"
   ]
  }
 ],
 "metadata": {
  "kernelspec": {
   "display_name": "Python 3",
   "language": "python",
   "name": "python3"
  },
  "language_info": {
   "codemirror_mode": {
    "name": "ipython",
    "version": 3
   },
   "file_extension": ".py",
   "mimetype": "text/x-python",
   "name": "python",
   "nbconvert_exporter": "python",
   "pygments_lexer": "ipython3",
   "version": "3.11.9"
  }
 },
 "nbformat": 4,
 "nbformat_minor": 5
}
