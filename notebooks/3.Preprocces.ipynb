{
 "cells": [
  {
   "cell_type": "code",
   "execution_count": 1,
   "id": "ea8d8ac3",
   "metadata": {},
   "outputs": [],
   "source": [
    "import pandas as pd"
   ]
  },
  {
   "cell_type": "code",
   "execution_count": 4,
   "id": "4cc1e057",
   "metadata": {},
   "outputs": [],
   "source": [
    "df = pd.read_pickle(r\"..\\data\\internim\\X_train_clean.pkl\")\n",
    "df = pd.DataFrame(df.T, columns= [\"Comments\"])"
   ]
  },
  {
   "cell_type": "code",
   "execution_count": 5,
   "id": "b55e6b06",
   "metadata": {},
   "outputs": [
    {
     "data": {
      "application/vnd.microsoft.datawrangler.viewer.v0+json": {
       "columns": [
        {
         "name": "index",
         "rawType": "int64",
         "type": "integer"
        },
        {
         "name": "Comments",
         "rawType": "object",
         "type": "string"
        }
       ],
       "ref": "53d6e7dd-a32d-483e-94ed-d4f41b9c760d",
       "rows": [
        [
         "0",
         "subscribe ill kick also dont forget starting random people merch get golden ticket package get ticket lets say something fun happen"
        ],
        [
         "1",
         "hey thats really great tutorial 5 minutes took thank"
        ],
        [
         "2",
         "thanks great work folks"
        ],
        [
         "3",
         "2323 la relajaci n es importante 18kissxuno los mortales abian apreciado tan hermosa mujer 1555 setacy hyper 1112 sun hotter 1112 hopi sweeter 0018 joonie cooler 1800 yoongi butter 1555 amoy monks 2323 son unos de los mejores conciertos puede ir pero de tan solo verlos desde pantalla se que estuvo sorprendente las elecciones cinematogr ficas art sticas son brillantes referencias culturales europeas realmente interesantes ojal"
        ],
        [
         "4",
         "literature review definition critical recap already researched topic literature review 1 find whats already known topic 2 give reader critical overview found 3 find whats missing gaps"
        ],
        [
         "5",
         "types comments every lofi video 1 people wishing strangers nice day 2 100 reasons stay alive 3 people sharing small successes achieved today 4 people describing cute relaxing activities listen lofi 5 people positively surprised supportive lofi community"
        ],
        [
         "6",
         "kid icarus uprising favourite game time combat fun weapons cool characters funny layered story world building fantastic half time last two games series gladly wait another 10 years get kid icarus goodness"
        ],
        [
         "7",
         "drooling wishing every single video cook everything perfectly"
        ],
        [
         "8",
         "mindblowing youre able explain much single video completely accurate easy understand also funny think youre one best content creators youtube might one best tech videos ive ever seen go fireship"
        ],
        [
         "9",
         "lubi twoje filmy"
        ],
        [
         "10",
         "man crenshaw probably access type material seal active duty knows gravity documents held standup defend someone violated protocol associated materials insult men women secure documents keep us safe"
        ],
        [
         "11",
         "dear denielle thanks much speed remind preparing cambridge c1 english exam failed couple times however never lost perseverance exam financial analyst reference return investment time spent worst deal however comes understanding humanities becoming comfortable ambiguity making rounded person answer valuable investment definitely yes well appreciated"
        ],
        [
         "12",
         "need na mag asukal diet key"
        ],
        [
         "13",
         "really cool gripe 2 player local 4 wireless online 4 playeralthough likely frame rate issues hopefully add 4 player local future game looks like great fun"
        ],
        [
         "14",
         "else still ps5"
        ],
        [
         "15",
         "sure mentioned video something feel said every tips video like dont dream project first ruin dont give first"
        ],
        [
         "16",
         "yep exactly apple picks winners losers hand pick get early devices lots traffic corresponding revenue along great seorecommendation positions future placements theres tremendous value access apple knows goes undisclosed apple picks review units access"
        ],
        [
         "17",
         "im going watch indiana jones batcave spiderman comes"
        ],
        [
         "18",
         "little circle found google maps called like bigfoots thumbprint something like think maze"
        ],
        [
         "19",
         "love work show make imagine know could true"
        ],
        [
         "20",
         "1 like 1 kolor wi cej kana mojego brata sebek"
        ],
        [
         "21",
         "thank finally putting persona 5 switch waiting"
        ],
        [
         "22",
         "thanks informative video caveat salary comparison data science often requires graduatelevel education masters phdconsiders asset whereas software engineers without graduate degree uncommon work data analyst 12 years becoming data scientist average salary may higher data scientists theres likely additional educationwork experience factored"
        ],
        [
         "23",
         "thank gta putting classics radio hits different cruising highway comes"
        ],
        [
         "24",
         "pros fun cons work thank"
        ],
        [
         "25",
         "guy never fails entertain us"
        ],
        [
         "26",
         "l grimas nesse trailer e principalmente na imagem chadwick"
        ],
        [
         "27",
         "funny guys say subtle things manage stay rooms longer like 240"
        ],
        [
         "28",
         "0339 tell 0435 gap resume 0549 motivates 0648 applying position 0748 walk us resume 0855 want work 0932 best person job 1025 see 5 years 1055 interests position 1201 good fit position 1316 tell dealt tough challenge 1428 hire 1611 weaknesses 1716 tell time went beyond job 1840 tell time reached goal 1912 leave last job 2035 strengths 2144 proud 2305 describe current job 2343 management style 2518 tell mistake made 2627 passionate 2755 know company 2925 hear job 3043 salary requirements 3240 deal pressure 3358 open relocating 3552 ideal dream job 3730 changing careers 3947 questions 4140 long hiring process take 4225 key succeeding role"
        ],
        [
         "29",
         "absolutely amazing thank much sharing valuable knowledge"
        ],
        [
         "30",
         "boy girl end report theyre happy spite invasion country two great"
        ],
        [
         "31",
         "love basically everything vegetarian option india kind jealous"
        ],
        [
         "32",
         "keep uploading videos like amazing know u gandhinagard"
        ],
        [
         "33",
         ""
        ],
        [
         "34",
         "guy fascinating love passionate teaches love sure students grateful showed us much cool stuff"
        ],
        [
         "35",
         "omg remember halloween makeup video im happy collaborated talented sweet youre looking amazing thank another relaxing video"
        ],
        [
         "36",
         "guys bring happiness joy days watch"
        ],
        [
         "37",
         "agree videos never disappointing"
        ],
        [
         "38",
         "pretty good summary disagree statement isnt science however cs researchers routinely make falsifiable claims real world test claims experiments fact thats im spending winter holiday like solve problem method x instead method get reliable answer course empirical evidence ie tested real world case weaker mathematical proof way might problems cs folks tackle scientific empirical questions handled rigorously mathematics big popular branches cs like machine learning ai advance primarily empirical rather mathematic evidence whether mathematics science leave writers dictionaries"
        ],
        [
         "39",
         "cant even tell much enjoy using tensorflow 20 using previous versions thank great improvements special thank tensorboard useful fun tool"
        ],
        [
         "40",
         "react full movie definitely enjoy"
        ],
        [
         "41",
         "like man going keep 100 every time opens mouth"
        ],
        [
         "42",
         "lighting effects look really cool"
        ],
        [
         "43",
         "way get ms marvel trailer thor love thunder"
        ],
        [
         "44",
         "moment polar bear appeared behind seal subsequent chase long moment suspension know nothing outcome finest nature moment captured film"
        ],
        [
         "45",
         "best opening frome white ever seen"
        ],
        [
         "46",
         "telugu film industry lo hero character ni different shades lo chupinchgala okey oka director mana puri garu"
        ],
        [
         "47",
         "trump warrant cannot released needs audited"
        ],
        [
         "48",
         "im thinking getting computer career first time hearing like different titles working computers thank much sharing video need find right title fit dealing computers like working computers"
        ],
        [
         "49",
         "vocalise ave maria composed igor krutoy especially dimash goes without saying newest version traditional songs almost beyond belief simplicity power nobody pull vocalise well dimash greatest vocalist ever heard 80 years planet ive heard really great singers along way every genre ever conceived blessing experience voice incomparable talent btw nice reaction"
        ]
       ],
       "shape": {
        "columns": 1,
        "rows": 14303
       }
      },
      "text/html": [
       "<div>\n",
       "<style scoped>\n",
       "    .dataframe tbody tr th:only-of-type {\n",
       "        vertical-align: middle;\n",
       "    }\n",
       "\n",
       "    .dataframe tbody tr th {\n",
       "        vertical-align: top;\n",
       "    }\n",
       "\n",
       "    .dataframe thead th {\n",
       "        text-align: right;\n",
       "    }\n",
       "</style>\n",
       "<table border=\"1\" class=\"dataframe\">\n",
       "  <thead>\n",
       "    <tr style=\"text-align: right;\">\n",
       "      <th></th>\n",
       "      <th>Comments</th>\n",
       "    </tr>\n",
       "  </thead>\n",
       "  <tbody>\n",
       "    <tr>\n",
       "      <th>0</th>\n",
       "      <td>subscribe ill kick also dont forget starting r...</td>\n",
       "    </tr>\n",
       "    <tr>\n",
       "      <th>1</th>\n",
       "      <td>hey thats really great tutorial 5 minutes took...</td>\n",
       "    </tr>\n",
       "    <tr>\n",
       "      <th>2</th>\n",
       "      <td>thanks great work folks</td>\n",
       "    </tr>\n",
       "    <tr>\n",
       "      <th>3</th>\n",
       "      <td>2323 la relajaci n es importante 18kissxuno lo...</td>\n",
       "    </tr>\n",
       "    <tr>\n",
       "      <th>4</th>\n",
       "      <td>literature review definition critical recap al...</td>\n",
       "    </tr>\n",
       "    <tr>\n",
       "      <th>...</th>\n",
       "      <td>...</td>\n",
       "    </tr>\n",
       "    <tr>\n",
       "      <th>14298</th>\n",
       "      <td>one thing proof mankind lot smarter lot advanc...</td>\n",
       "    </tr>\n",
       "    <tr>\n",
       "      <th>14299</th>\n",
       "      <td>education used separate maintain social classe...</td>\n",
       "    </tr>\n",
       "    <tr>\n",
       "      <th>14300</th>\n",
       "      <td>emotional experience know feels like life dang...</td>\n",
       "    </tr>\n",
       "    <tr>\n",
       "      <th>14301</th>\n",
       "      <td>take moment appreciate much time effort put vi...</td>\n",
       "    </tr>\n",
       "    <tr>\n",
       "      <th>14302</th>\n",
       "      <td>yeah buy rechargeable battery pack xb controll...</td>\n",
       "    </tr>\n",
       "  </tbody>\n",
       "</table>\n",
       "<p>14303 rows × 1 columns</p>\n",
       "</div>"
      ],
      "text/plain": [
       "                                                Comments\n",
       "0      subscribe ill kick also dont forget starting r...\n",
       "1      hey thats really great tutorial 5 minutes took...\n",
       "2                                thanks great work folks\n",
       "3      2323 la relajaci n es importante 18kissxuno lo...\n",
       "4      literature review definition critical recap al...\n",
       "...                                                  ...\n",
       "14298  one thing proof mankind lot smarter lot advanc...\n",
       "14299  education used separate maintain social classe...\n",
       "14300  emotional experience know feels like life dang...\n",
       "14301  take moment appreciate much time effort put vi...\n",
       "14302  yeah buy rechargeable battery pack xb controll...\n",
       "\n",
       "[14303 rows x 1 columns]"
      ]
     },
     "execution_count": 5,
     "metadata": {},
     "output_type": "execute_result"
    }
   ],
   "source": [
    "df"
   ]
  },
  {
   "cell_type": "code",
   "execution_count": 11,
   "id": "d796b2bf",
   "metadata": {},
   "outputs": [],
   "source": [
    "from nltk.stem import PorterStemmer\n",
    "from nltk.tokenize import word_tokenize\n",
    "# Create a Porter Stemmer instance\n",
    "porter_stemmer = PorterStemmer()\n",
    "\n",
    "def stemmer(text):\n",
    "    text = text.lower()\n",
    "    words = word_tokenize(text)\n",
    "    stemmed = [porter_stemmer.stem(word) for word in words]\n",
    "    return \" \".join(stemmed)\n",
    "\n",
    "\n",
    "df[\"Comments\"] = df[\"Comments\"].apply(stemmer)"
   ]
  },
  {
   "cell_type": "code",
   "execution_count": 12,
   "id": "3e8c23f8",
   "metadata": {},
   "outputs": [
    {
     "data": {
      "application/vnd.microsoft.datawrangler.viewer.v0+json": {
       "columns": [
        {
         "name": "index",
         "rawType": "int64",
         "type": "integer"
        },
        {
         "name": "Comments",
         "rawType": "object",
         "type": "string"
        }
       ],
       "ref": "b7cf3cc3-bd38-408d-92fc-780cbe7dfe54",
       "rows": [
        [
         "0",
         "subscrib ill kick also dont forget start random peopl merch get golden ticket packag get ticket let say someth fun happen"
        ],
        [
         "1",
         "hey that realli great tutori 5 minut took thank"
        ],
        [
         "2",
         "thank great work folk"
        ],
        [
         "3",
         "2323 la relajaci n es import 18kissxuno lo mortal abian apreciado tan hermosa mujer 1555 setaci hyper 1112 sun hotter 1112 hopi sweeter 0018 jooni cooler 1800 yoongi butter 1555 amoy monk 2323 son uno de lo mejor concierto pu ir pero de tan solo verlo desd pantalla se que estuvo sorprend la eleccion cinematogr fica art stica son brillant referencia cultur europea realment interes ojal"
        ],
        [
         "4",
         "literatur review definit critic recap alreadi research topic literatur review 1 find what alreadi known topic 2 give reader critic overview found 3 find what miss gap"
        ],
        [
         "5",
         "type comment everi lofi video 1 peopl wish stranger nice day 2 100 reason stay aliv 3 peopl share small success achiev today 4 peopl describ cute relax activ listen lofi 5 peopl posit surpri support lofi commun"
        ],
        [
         "6",
         "kid icaru upri favourit game time combat fun weapon cool charact funni layer stori world build fantast half time last two game seri gladli wait anoth 10 year get kid icaru good"
        ],
        [
         "7",
         "drool wish everi singl video cook everyth perfectli"
        ],
        [
         "8",
         "mindblow your abl explain much singl video complet accur easi understand also funni think your one best content creator youtub might one best tech video ive ever seen go fireship"
        ],
        [
         "9",
         "lubi twoje filmi"
        ],
        [
         "10",
         "man crenshaw probabl access type materi seal activ duti know graviti document held standup defend someon violat protocol associ materi insult men women secur document keep us safe"
        ],
        [
         "11",
         "dear deniel thank much speed remind prepar cambridg c1 english exam fail coupl time howev never lost persev exam financ analyst refer return invest time spent worst deal howev come understand human becom comfort ambigu make round person answer valuabl invest definit ye well appreci"
        ],
        [
         "12",
         "need na mag asuk diet key"
        ],
        [
         "13",
         "realli cool gripe 2 player local 4 wireless onlin 4 playeralthough like frame rate issu hope add 4 player local futur game look like great fun"
        ],
        [
         "14",
         "el still ps5"
        ],
        [
         "15",
         "sure mention video someth feel said everi tip video like dont dream project first ruin dont give first"
        ],
        [
         "16",
         "yep exactli appl pick winner loser hand pick get earli devic lot traffic correspond revenu along great seorecommend posit futur placement there tremend valu access appl know goe undisclo appl pick review unit access"
        ],
        [
         "17",
         "im go watch indiana jone batcav spiderman come"
        ],
        [
         "18",
         "littl circl found googl map call like bigfoot thumbprint someth like think maze"
        ],
        [
         "19",
         "love work show make imagin know could true"
        ],
        [
         "20",
         "1 like 1 kolor wi cej kana mojego brata sebek"
        ],
        [
         "21",
         "thank final put persona 5 switch wait"
        ],
        [
         "22",
         "thank inform video caveat salari comparison data scienc often requir graduatelevel educ master phdconsid asset wherea softwar engin without graduat degr uncommon work data analyst 12 year becom data scientist averag salari may higher data scientist there like addit educationwork experi factor"
        ],
        [
         "23",
         "thank gta put classic radio hit differ crui highway come"
        ],
        [
         "24",
         "pro fun con work thank"
        ],
        [
         "25",
         "guy never fail entertain us"
        ],
        [
         "26",
         "l grima ness trailer e principal na imagem chadwick"
        ],
        [
         "27",
         "funni guy say subtl thing manag stay room longer like 240"
        ],
        [
         "28",
         "0339 tell 0435 gap resum 0549 motiv 0648 appli posit 0748 walk us resum 0855 want work 0932 best person job 1025 see 5 year 1055 interest posit 1201 good fit posit 1316 tell dealt tough challeng 1428 hire 1611 weak 1716 tell time went beyond job 1840 tell time reach goal 1912 leav last job 2035 strength 2144 proud 2305 describ current job 2343 manag style 2518 tell mistak made 2627 passion 2755 know compani 2925 hear job 3043 salari requir 3240 deal pressur 3358 open reloc 3552 ideal dream job 3730 chang career 3947 question 4140 long hire process take 4225 key succeed role"
        ],
        [
         "29",
         "absolut amaz thank much share valuabl knowledg"
        ],
        [
         "30",
         "boy girl end report theyr happi spite inva countri two great"
        ],
        [
         "31",
         "love basic everyth vegetarian option india kind jealou"
        ],
        [
         "32",
         "keep upload video like amaz know u gandhinagard"
        ],
        [
         "33",
         ""
        ],
        [
         "34",
         "guy fascin love passion teach love sure student grate show us much cool stuff"
        ],
        [
         "35",
         "omg rememb halloween makeup video im happi collabor talent sweet your look amaz thank anoth relax video"
        ],
        [
         "36",
         "guy bring happi joy day watch"
        ],
        [
         "37",
         "agr video never disappoint"
        ],
        [
         "38",
         "pretti good summari disagr statement isnt scienc howev cs research routin make falsifi claim real world test claim experi fact that im spend winter holiday like solv problem method x instead method get reliabl answer cour empir evid ie test real world case weaker mathemat proof way might problem cs folk tackl scientif empir question handl rigor mathemat big popular branch cs like machin learn ai advanc primarili empir rather mathemat evid whether mathemat scienc leav writer dictionari"
        ],
        [
         "39",
         "cant even tell much enjoy use tensorflow 20 use previou version thank great improv special thank tensorboard use fun tool"
        ],
        [
         "40",
         "react full movi definit enjoy"
        ],
        [
         "41",
         "like man go keep 100 everi time open mouth"
        ],
        [
         "42",
         "light effect look realli cool"
        ],
        [
         "43",
         "way get ms marvel trailer thor love thunder"
        ],
        [
         "44",
         "moment polar bear appear behind seal subsequ chase long moment suspen know noth outcom finest natur moment captur film"
        ],
        [
         "45",
         "best open frome white ever seen"
        ],
        [
         "46",
         "telugu film industri lo hero charact ni differ shade lo chupinchgala okey oka director mana puri garu"
        ],
        [
         "47",
         "trump warrant can not relea need audit"
        ],
        [
         "48",
         "im think get comput career first time hear like differ titl work comput thank much share video need find right titl fit deal comput like work comput"
        ],
        [
         "49",
         "vocali ave maria compo igor krutoy especi dimash goe without say newest version tradit song almost beyond belief simplic power nobodi pull vocali well dimash greatest vocalist ever heard 80 year planet ive heard realli great singer along way everi genr ever conceiv bless experi voic incompar talent btw nice reaction"
        ]
       ],
       "shape": {
        "columns": 1,
        "rows": 14303
       }
      },
      "text/plain": [
       "0        subscrib ill kick also dont forget start rando...\n",
       "1          hey that realli great tutori 5 minut took thank\n",
       "2                                    thank great work folk\n",
       "3        2323 la relajaci n es import 18kissxuno lo mor...\n",
       "4        literatur review definit critic recap alreadi ...\n",
       "                               ...                        \n",
       "14298    one thing proof mankind lot smarter lot advanc...\n",
       "14299    educ use separ maintain social class state ric...\n",
       "14300    emot experi know feel like life danger terrifi...\n",
       "14301    take moment appreci much time effort put video...\n",
       "14302    yeah buy recharg batteri pack xb control actua...\n",
       "Name: Comments, Length: 14303, dtype: object"
      ]
     },
     "execution_count": 12,
     "metadata": {},
     "output_type": "execute_result"
    }
   ],
   "source": [
    "df[\"Comments\"]"
   ]
  },
  {
   "cell_type": "code",
   "execution_count": 14,
   "id": "52af859b",
   "metadata": {},
   "outputs": [
    {
     "data": {
      "text/plain": [
       "['..\\\\data\\\\internim\\\\x_train_stemmed.pkl']"
      ]
     },
     "execution_count": 14,
     "metadata": {},
     "output_type": "execute_result"
    }
   ],
   "source": [
    "import joblib\n",
    "joblib.dump(df, r'..\\data\\internim\\x_train_stemmed.pkl')"
   ]
  }
 ],
 "metadata": {
  "kernelspec": {
   "display_name": "Python 3",
   "language": "python",
   "name": "python3"
  },
  "language_info": {
   "codemirror_mode": {
    "name": "ipython",
    "version": 3
   },
   "file_extension": ".py",
   "mimetype": "text/x-python",
   "name": "python",
   "nbconvert_exporter": "python",
   "pygments_lexer": "ipython3",
   "version": "3.11.9"
  }
 },
 "nbformat": 4,
 "nbformat_minor": 5
}
