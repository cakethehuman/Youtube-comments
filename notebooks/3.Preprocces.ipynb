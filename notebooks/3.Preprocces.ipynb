{
 "cells": [
  {
   "cell_type": "code",
   "execution_count": 1,
   "id": "ea8d8ac3",
   "metadata": {},
   "outputs": [],
   "source": [
    "import pandas as pd\n",
    "import joblib"
   ]
  },
  {
   "cell_type": "code",
   "execution_count": 27,
   "id": "4cc1e057",
   "metadata": {},
   "outputs": [],
   "source": [
    "df1 = joblib.load(r\"..\\data\\internim\\X_train_clean.pkl\")\n",
    "df1 = pd.DataFrame(df1)\n",
    "\n",
    "df2 = joblib.load(r\"..\\data\\internim\\y_train.pkl\")\n",
    "df2 = pd.DataFrame(df2)\n",
    "\n"
   ]
  },
  {
   "cell_type": "code",
   "execution_count": 28,
   "id": "d796b2bf",
   "metadata": {},
   "outputs": [],
   "source": [
    "from nltk.stem import PorterStemmer\n",
    "from nltk.tokenize import word_tokenize\n",
    "# Create a Porter Stemmer instance\n",
    "porter_stemmer = PorterStemmer()\n",
    "\n",
    "def stemmer(text):\n",
    "    text = text.lower()\n",
    "    words = word_tokenize(text)\n",
    "    stemmed = [porter_stemmer.stem(word) for word in words]\n",
    "    return \" \".join(stemmed)\n",
    "\n",
    "df1[\"Comments\"] = df1[\"Comments\"].apply(stemmer)\n"
   ]
  },
  {
   "cell_type": "code",
   "execution_count": 34,
   "id": "ded4d920",
   "metadata": {},
   "outputs": [
    {
     "data": {
      "text/plain": [
       "(14248, 1)"
      ]
     },
     "execution_count": 34,
     "metadata": {},
     "output_type": "execute_result"
    }
   ],
   "source": [
    "df1.shape"
   ]
  },
  {
   "cell_type": "code",
   "execution_count": 33,
   "id": "4c74a460",
   "metadata": {},
   "outputs": [
    {
     "data": {
      "text/plain": [
       "(14726, 1)"
      ]
     },
     "execution_count": 33,
     "metadata": {},
     "output_type": "execute_result"
    }
   ],
   "source": [
    "df2.shape"
   ]
  },
  {
   "cell_type": "code",
   "execution_count": 29,
   "id": "1a1db766",
   "metadata": {},
   "outputs": [],
   "source": [
    "df = pd.concat([df1,df2], axis= 1)"
   ]
  },
  {
   "cell_type": "code",
   "execution_count": 31,
   "id": "3e8c23f8",
   "metadata": {},
   "outputs": [
    {
     "data": {
      "application/vnd.microsoft.datawrangler.viewer.v0+json": {
       "columns": [
        {
         "name": "index",
         "rawType": "int64",
         "type": "integer"
        },
        {
         "name": "Comments",
         "rawType": "object",
         "type": "unknown"
        },
        {
         "name": "Sentiment",
         "rawType": "float64",
         "type": "float"
        }
       ],
       "ref": "3e4fb699-435a-43bc-b687-46e70ef0e9a4",
       "rows": [
        [
         "0",
         "subscrib ill kick also dont forget start random peopl merch get golden ticket packag get ticket let say someth fun happen",
         null
        ],
        [
         "1",
         "hey that realli great tutori minut took thank",
         "0.0"
        ],
        [
         "2",
         "thank great work folk",
         "2.0"
        ],
        [
         "3",
         "la relajaci n es important kissxuno lo mortal abian apreciado tan hermosa mujer setaci hyper sun hotter hopi sweeter jooni cooler yoongi butter amoy monk son uno de lo mejor concierto pued ir pero de tan solo verlo desd pantalla se que estuvo sorprendent la eleccion cinematogr fica art stica son brillant referencia cultural europea realment interesant ojal",
         null
        ],
        [
         "4",
         "literatur review definit critic recap alreadi research topic literatur review find what alreadi known topic give reader critic overview found find what miss gap",
         "2.0"
        ],
        [
         "5",
         "type comment everi lofi video peopl wish stranger nice day reason stay aliv peopl share small success achiev today peopl describ cute relax activ listen lofi peopl posit surpris support lofi commun",
         "1.0"
        ],
        [
         "6",
         "kid icaru upris favourit game time combat fun weapon cool charact funni layer stori world build fantast half time last two game seri gladli wait anoth year get kid icaru good",
         "2.0"
        ],
        [
         "7",
         "drool wish everi singl video cook everyth perfectli",
         "1.0"
        ],
        [
         "8",
         "mindblow your abl explain much singl video complet accur easi understand also funni think your one best content creator youtub might one best tech video ive ever seen go fireship",
         null
        ],
        [
         "9",
         "lubi twoje filmi",
         "1.0"
        ],
        [
         "10",
         "man crenshaw probabl access type materi seal activ duti know graviti document held standup defend someon violat protocol associ materi insult men women secur document keep us safe",
         "2.0"
        ],
        [
         "11",
         "dear deniel thank much speed remind prepar cambridg c english exam fail coupl time howev never lost persever exam financi analyst refer return invest time spent worst deal howev come understand human becom comfort ambigu make round person answer valuabl invest definit ye well appreci",
         "2.0"
        ],
        [
         "12",
         "need na mag asuk diet key",
         "2.0"
        ],
        [
         "13",
         "realli cool gripe player local wireless onlin playeralthough like frame rate issu hope add player local futur game look like great fun",
         "2.0"
        ],
        [
         "14",
         "els still ps",
         "0.0"
        ],
        [
         "15",
         "sure mention video someth feel said everi tip video like dont dream project first ruin dont give first",
         "2.0"
        ],
        [
         "16",
         "yep exactli appl pick winner loser hand pick get earli devic lot traffic correspond revenu along great seorecommend posit futur placement there tremend valu access appl know goe undisclos appl pick review unit access",
         "2.0"
        ],
        [
         "17",
         "im go watch indiana jone batcav spiderman come",
         "2.0"
        ],
        [
         "18",
         "littl circl found googl map call like bigfoot thumbprint someth like think maze",
         "2.0"
        ],
        [
         "19",
         "love work show make imagin know could true",
         null
        ],
        [
         "20",
         "like kolor wi cej kana mojego brata sebek",
         "2.0"
        ],
        [
         "21",
         "thank final put persona switch wait",
         "2.0"
        ],
        [
         "22",
         "thank inform video caveat salari comparison data scienc often requir graduatelevel educ master phdconsid asset wherea softwar engin without graduat degre uncommon work data analyst year becom data scientist averag salari may higher data scientist there like addit educationwork experi factor",
         "2.0"
        ],
        [
         "23",
         "thank gta put classic radio hit differ cruis highway come",
         "2.0"
        ],
        [
         "24",
         "pro fun con work thank",
         "1.0"
        ],
        [
         "25",
         "guy never fail entertain us",
         "2.0"
        ],
        [
         "26",
         "l grima ness trailer e principalment na imagem chadwick",
         "2.0"
        ],
        [
         "27",
         "funni guy say subtl thing manag stay room longer like",
         "2.0"
        ],
        [
         "28",
         "tell gap resum motiv appli posit walk us resum want work best person job see year interest posit good fit posit tell dealt tough challeng hire weak tell time went beyond job tell time reach goal leav last job strength proud describ current job manag style tell mistak made passion know compani hear job salari requir deal pressur open reloc ideal dream job chang career question long hire process take key succeed role",
         "2.0"
        ],
        [
         "29",
         "absolut amaz thank much share valuabl knowledg",
         "2.0"
        ],
        [
         "30",
         "boy girl end report theyr happi spite invas countri two great",
         null
        ],
        [
         "31",
         "love basic everyth vegetarian option india kind jealou",
         "2.0"
        ],
        [
         "32",
         "keep upload video like amaz know u gandhinagard",
         "1.0"
        ],
        [
         "33",
         "",
         "2.0"
        ],
        [
         "34",
         "guy fascin love passion teach love sure student grate show us much cool stuff",
         null
        ],
        [
         "35",
         "omg rememb halloween makeup video im happi collabor talent sweet your look amaz thank anoth relax video",
         null
        ],
        [
         "36",
         "guy bring happi joy day watch",
         "2.0"
        ],
        [
         "37",
         "agre video never disappoint",
         "2.0"
        ],
        [
         "38",
         "pretti good summari disagre statement isnt scienc howev cs research routin make falsifi claim real world test claim experi fact that im spend winter holiday like solv problem method x instead method get reliabl answer cours empir evid ie test real world case weaker mathemat proof way might problem cs folk tackl scientif empir question handl rigor mathemat big popular branch cs like machin learn ai advanc primarili empir rather mathemat evid whether mathemat scienc leav writer dictionari",
         null
        ],
        [
         "39",
         "cant even tell much enjoy use tensorflow use previou version thank great improv special thank tensorboard use fun tool",
         "1.0"
        ],
        [
         "40",
         "react full movi definit enjoy",
         "1.0"
        ],
        [
         "41",
         "like man go keep everi time open mouth",
         null
        ],
        [
         "42",
         "light effect look realli cool",
         "2.0"
        ],
        [
         "43",
         "way get ms marvel trailer thor love thunder",
         "2.0"
        ],
        [
         "44",
         "moment polar bear appear behind seal subsequ chase long moment suspens know noth outcom finest natur moment captur film",
         "1.0"
        ],
        [
         "45",
         "best open frome white ever seen",
         "1.0"
        ],
        [
         "46",
         "telugu film industri lo hero charact ni differ shade lo chupinchgala okey oka director mana puri garu",
         null
        ],
        [
         "47",
         "trump warrant can not releas need audit",
         null
        ],
        [
         "48",
         "im think get comput career first time hear like differ titl work comput thank much share video need find right titl fit deal comput like work comput",
         "2.0"
        ],
        [
         "49",
         "vocalis ave maria compos igor krutoy especi dimash goe without say newest version tradit song almost beyond belief simplic power nobodi pull vocalis well dimash greatest vocalist ever heard year planet ive heard realli great singer along way everi genr ever conceiv bless experi voic incompar talent btw nice reaction",
         "2.0"
        ]
       ],
       "shape": {
        "columns": 2,
        "rows": 17624
       }
      },
      "text/html": [
       "<div>\n",
       "<style scoped>\n",
       "    .dataframe tbody tr th:only-of-type {\n",
       "        vertical-align: middle;\n",
       "    }\n",
       "\n",
       "    .dataframe tbody tr th {\n",
       "        vertical-align: top;\n",
       "    }\n",
       "\n",
       "    .dataframe thead th {\n",
       "        text-align: right;\n",
       "    }\n",
       "</style>\n",
       "<table border=\"1\" class=\"dataframe\">\n",
       "  <thead>\n",
       "    <tr style=\"text-align: right;\">\n",
       "      <th></th>\n",
       "      <th>Comments</th>\n",
       "      <th>Sentiment</th>\n",
       "    </tr>\n",
       "  </thead>\n",
       "  <tbody>\n",
       "    <tr>\n",
       "      <th>0</th>\n",
       "      <td>subscrib ill kick also dont forget start rando...</td>\n",
       "      <td>NaN</td>\n",
       "    </tr>\n",
       "    <tr>\n",
       "      <th>1</th>\n",
       "      <td>hey that realli great tutori minut took thank</td>\n",
       "      <td>0.0</td>\n",
       "    </tr>\n",
       "    <tr>\n",
       "      <th>2</th>\n",
       "      <td>thank great work folk</td>\n",
       "      <td>2.0</td>\n",
       "    </tr>\n",
       "    <tr>\n",
       "      <th>3</th>\n",
       "      <td>la relajaci n es important kissxuno lo mortal ...</td>\n",
       "      <td>NaN</td>\n",
       "    </tr>\n",
       "    <tr>\n",
       "      <th>4</th>\n",
       "      <td>literatur review definit critic recap alreadi ...</td>\n",
       "      <td>2.0</td>\n",
       "    </tr>\n",
       "    <tr>\n",
       "      <th>...</th>\n",
       "      <td>...</td>\n",
       "      <td>...</td>\n",
       "    </tr>\n",
       "    <tr>\n",
       "      <th>2747</th>\n",
       "      <td>NaN</td>\n",
       "      <td>2.0</td>\n",
       "    </tr>\n",
       "    <tr>\n",
       "      <th>17568</th>\n",
       "      <td>NaN</td>\n",
       "      <td>2.0</td>\n",
       "    </tr>\n",
       "    <tr>\n",
       "      <th>16023</th>\n",
       "      <td>NaN</td>\n",
       "      <td>2.0</td>\n",
       "    </tr>\n",
       "    <tr>\n",
       "      <th>16850</th>\n",
       "      <td>NaN</td>\n",
       "      <td>2.0</td>\n",
       "    </tr>\n",
       "    <tr>\n",
       "      <th>15795</th>\n",
       "      <td>NaN</td>\n",
       "      <td>1.0</td>\n",
       "    </tr>\n",
       "  </tbody>\n",
       "</table>\n",
       "<p>17624 rows × 2 columns</p>\n",
       "</div>"
      ],
      "text/plain": [
       "                                                Comments  Sentiment\n",
       "0      subscrib ill kick also dont forget start rando...        NaN\n",
       "1          hey that realli great tutori minut took thank        0.0\n",
       "2                                  thank great work folk        2.0\n",
       "3      la relajaci n es important kissxuno lo mortal ...        NaN\n",
       "4      literatur review definit critic recap alreadi ...        2.0\n",
       "...                                                  ...        ...\n",
       "2747                                                 NaN        2.0\n",
       "17568                                                NaN        2.0\n",
       "16023                                                NaN        2.0\n",
       "16850                                                NaN        2.0\n",
       "15795                                                NaN        1.0\n",
       "\n",
       "[17624 rows x 2 columns]"
      ]
     },
     "execution_count": 31,
     "metadata": {},
     "output_type": "execute_result"
    }
   ],
   "source": [
    "df"
   ]
  },
  {
   "cell_type": "code",
   "execution_count": 35,
   "id": "d2da8b4f",
   "metadata": {},
   "outputs": [],
   "source": [
    "df.dropna(inplace=True)"
   ]
  },
  {
   "cell_type": "code",
   "execution_count": 36,
   "id": "69013f3a",
   "metadata": {},
   "outputs": [
    {
     "data": {
      "application/vnd.microsoft.datawrangler.viewer.v0+json": {
       "columns": [
        {
         "name": "index",
         "rawType": "int64",
         "type": "integer"
        },
        {
         "name": "Comments",
         "rawType": "object",
         "type": "string"
        },
        {
         "name": "Sentiment",
         "rawType": "float64",
         "type": "float"
        }
       ],
       "ref": "59b43fd2-e890-4a37-807b-4209c7529f38",
       "rows": [
        [
         "1",
         "hey that realli great tutori minut took thank",
         "0.0"
        ],
        [
         "2",
         "thank great work folk",
         "2.0"
        ],
        [
         "4",
         "literatur review definit critic recap alreadi research topic literatur review find what alreadi known topic give reader critic overview found find what miss gap",
         "2.0"
        ],
        [
         "5",
         "type comment everi lofi video peopl wish stranger nice day reason stay aliv peopl share small success achiev today peopl describ cute relax activ listen lofi peopl posit surpris support lofi commun",
         "1.0"
        ],
        [
         "6",
         "kid icaru upris favourit game time combat fun weapon cool charact funni layer stori world build fantast half time last two game seri gladli wait anoth year get kid icaru good",
         "2.0"
        ],
        [
         "7",
         "drool wish everi singl video cook everyth perfectli",
         "1.0"
        ],
        [
         "9",
         "lubi twoje filmi",
         "1.0"
        ],
        [
         "10",
         "man crenshaw probabl access type materi seal activ duti know graviti document held standup defend someon violat protocol associ materi insult men women secur document keep us safe",
         "2.0"
        ],
        [
         "11",
         "dear deniel thank much speed remind prepar cambridg c english exam fail coupl time howev never lost persever exam financi analyst refer return invest time spent worst deal howev come understand human becom comfort ambigu make round person answer valuabl invest definit ye well appreci",
         "2.0"
        ],
        [
         "12",
         "need na mag asuk diet key",
         "2.0"
        ],
        [
         "13",
         "realli cool gripe player local wireless onlin playeralthough like frame rate issu hope add player local futur game look like great fun",
         "2.0"
        ],
        [
         "14",
         "els still ps",
         "0.0"
        ],
        [
         "15",
         "sure mention video someth feel said everi tip video like dont dream project first ruin dont give first",
         "2.0"
        ],
        [
         "16",
         "yep exactli appl pick winner loser hand pick get earli devic lot traffic correspond revenu along great seorecommend posit futur placement there tremend valu access appl know goe undisclos appl pick review unit access",
         "2.0"
        ],
        [
         "17",
         "im go watch indiana jone batcav spiderman come",
         "2.0"
        ],
        [
         "18",
         "littl circl found googl map call like bigfoot thumbprint someth like think maze",
         "2.0"
        ],
        [
         "20",
         "like kolor wi cej kana mojego brata sebek",
         "2.0"
        ],
        [
         "21",
         "thank final put persona switch wait",
         "2.0"
        ],
        [
         "22",
         "thank inform video caveat salari comparison data scienc often requir graduatelevel educ master phdconsid asset wherea softwar engin without graduat degre uncommon work data analyst year becom data scientist averag salari may higher data scientist there like addit educationwork experi factor",
         "2.0"
        ],
        [
         "23",
         "thank gta put classic radio hit differ cruis highway come",
         "2.0"
        ],
        [
         "24",
         "pro fun con work thank",
         "1.0"
        ],
        [
         "25",
         "guy never fail entertain us",
         "2.0"
        ],
        [
         "26",
         "l grima ness trailer e principalment na imagem chadwick",
         "2.0"
        ],
        [
         "27",
         "funni guy say subtl thing manag stay room longer like",
         "2.0"
        ],
        [
         "28",
         "tell gap resum motiv appli posit walk us resum want work best person job see year interest posit good fit posit tell dealt tough challeng hire weak tell time went beyond job tell time reach goal leav last job strength proud describ current job manag style tell mistak made passion know compani hear job salari requir deal pressur open reloc ideal dream job chang career question long hire process take key succeed role",
         "2.0"
        ],
        [
         "29",
         "absolut amaz thank much share valuabl knowledg",
         "2.0"
        ],
        [
         "31",
         "love basic everyth vegetarian option india kind jealou",
         "2.0"
        ],
        [
         "32",
         "keep upload video like amaz know u gandhinagard",
         "1.0"
        ],
        [
         "33",
         "",
         "2.0"
        ],
        [
         "36",
         "guy bring happi joy day watch",
         "2.0"
        ],
        [
         "37",
         "agre video never disappoint",
         "2.0"
        ],
        [
         "39",
         "cant even tell much enjoy use tensorflow use previou version thank great improv special thank tensorboard use fun tool",
         "1.0"
        ],
        [
         "40",
         "react full movi definit enjoy",
         "1.0"
        ],
        [
         "42",
         "light effect look realli cool",
         "2.0"
        ],
        [
         "43",
         "way get ms marvel trailer thor love thunder",
         "2.0"
        ],
        [
         "44",
         "moment polar bear appear behind seal subsequ chase long moment suspens know noth outcom finest natur moment captur film",
         "1.0"
        ],
        [
         "45",
         "best open frome white ever seen",
         "1.0"
        ],
        [
         "48",
         "im think get comput career first time hear like differ titl work comput thank much share video need find right titl fit deal comput like work comput",
         "2.0"
        ],
        [
         "49",
         "vocalis ave maria compos igor krutoy especi dimash goe without say newest version tradit song almost beyond belief simplic power nobodi pull vocalis well dimash greatest vocalist ever heard year planet ive heard realli great singer along way everi genr ever conceiv bless experi voic incompar talent btw nice reaction",
         "2.0"
        ],
        [
         "51",
         "thank enough favorit tech guy honest reliabl",
         "2.0"
        ],
        [
         "52",
         "think afraid get internship earli current freshman colleg major cs littl knowledg code tri appli internship afraid job intern involv hack amazon databas someth wild",
         "1.0"
        ],
        [
         "53",
         "know cabinet took live kill children upset could parent ever think realiz type death still happen today go show barbar still exist children could tri war crime think know parent rot hell prais lord",
         "0.0"
        ],
        [
         "55",
         "song hit differ im listen late night middl june",
         "0.0"
        ],
        [
         "56",
         "jam way back",
         "2.0"
        ],
        [
         "58",
         "uma verdadeira delicia sua refei",
         "2.0"
        ],
        [
         "60",
         "alway tell wife feel person understand gon na say god sake keep short clear",
         "0.0"
        ],
        [
         "61",
         "person would switch place metal smallest lose thing easili especi tini cube",
         "2.0"
        ],
        [
         "62",
         "still aliv lol go take time devlog actual come also thank crazi amount support mean lot",
         "2.0"
        ],
        [
         "63",
         "ratsasan ratsasani mean origin origin one defeat origini",
         "2.0"
        ],
        [
         "64",
         "encanta que suban video diario lo que siempr quiz disfrutar del tiempo que dure",
         "1.0"
        ]
       ],
       "shape": {
        "columns": 2,
        "rows": 11350
       }
      },
      "text/html": [
       "<div>\n",
       "<style scoped>\n",
       "    .dataframe tbody tr th:only-of-type {\n",
       "        vertical-align: middle;\n",
       "    }\n",
       "\n",
       "    .dataframe tbody tr th {\n",
       "        vertical-align: top;\n",
       "    }\n",
       "\n",
       "    .dataframe thead th {\n",
       "        text-align: right;\n",
       "    }\n",
       "</style>\n",
       "<table border=\"1\" class=\"dataframe\">\n",
       "  <thead>\n",
       "    <tr style=\"text-align: right;\">\n",
       "      <th></th>\n",
       "      <th>Comments</th>\n",
       "      <th>Sentiment</th>\n",
       "    </tr>\n",
       "  </thead>\n",
       "  <tbody>\n",
       "    <tr>\n",
       "      <th>1</th>\n",
       "      <td>hey that realli great tutori minut took thank</td>\n",
       "      <td>0.0</td>\n",
       "    </tr>\n",
       "    <tr>\n",
       "      <th>2</th>\n",
       "      <td>thank great work folk</td>\n",
       "      <td>2.0</td>\n",
       "    </tr>\n",
       "    <tr>\n",
       "      <th>4</th>\n",
       "      <td>literatur review definit critic recap alreadi ...</td>\n",
       "      <td>2.0</td>\n",
       "    </tr>\n",
       "    <tr>\n",
       "      <th>5</th>\n",
       "      <td>type comment everi lofi video peopl wish stran...</td>\n",
       "      <td>1.0</td>\n",
       "    </tr>\n",
       "    <tr>\n",
       "      <th>6</th>\n",
       "      <td>kid icaru upris favourit game time combat fun ...</td>\n",
       "      <td>2.0</td>\n",
       "    </tr>\n",
       "    <tr>\n",
       "      <th>...</th>\n",
       "      <td>...</td>\n",
       "      <td>...</td>\n",
       "    </tr>\n",
       "    <tr>\n",
       "      <th>14719</th>\n",
       "      <td>skn soori good pair movi togeth</td>\n",
       "      <td>2.0</td>\n",
       "    </tr>\n",
       "    <tr>\n",
       "      <th>14720</th>\n",
       "      <td>one thing proof mankind lot smarter lot advanc...</td>\n",
       "      <td>2.0</td>\n",
       "    </tr>\n",
       "    <tr>\n",
       "      <th>14721</th>\n",
       "      <td>educ use separ maintain social class state ric...</td>\n",
       "      <td>1.0</td>\n",
       "    </tr>\n",
       "    <tr>\n",
       "      <th>14724</th>\n",
       "      <td>take moment appreci much time effort put video...</td>\n",
       "      <td>2.0</td>\n",
       "    </tr>\n",
       "    <tr>\n",
       "      <th>14725</th>\n",
       "      <td>yeah buy recharg batteri pack xb control actua...</td>\n",
       "      <td>2.0</td>\n",
       "    </tr>\n",
       "  </tbody>\n",
       "</table>\n",
       "<p>11350 rows × 2 columns</p>\n",
       "</div>"
      ],
      "text/plain": [
       "                                                Comments  Sentiment\n",
       "1          hey that realli great tutori minut took thank        0.0\n",
       "2                                  thank great work folk        2.0\n",
       "4      literatur review definit critic recap alreadi ...        2.0\n",
       "5      type comment everi lofi video peopl wish stran...        1.0\n",
       "6      kid icaru upris favourit game time combat fun ...        2.0\n",
       "...                                                  ...        ...\n",
       "14719                    skn soori good pair movi togeth        2.0\n",
       "14720  one thing proof mankind lot smarter lot advanc...        2.0\n",
       "14721  educ use separ maintain social class state ric...        1.0\n",
       "14724  take moment appreci much time effort put video...        2.0\n",
       "14725  yeah buy recharg batteri pack xb control actua...        2.0\n",
       "\n",
       "[11350 rows x 2 columns]"
      ]
     },
     "execution_count": 36,
     "metadata": {},
     "output_type": "execute_result"
    }
   ],
   "source": [
    "df"
   ]
  },
  {
   "cell_type": "code",
   "execution_count": null,
   "id": "d07120b2",
   "metadata": {},
   "outputs": [],
   "source": []
  },
  {
   "cell_type": "code",
   "execution_count": 38,
   "id": "52af859b",
   "metadata": {},
   "outputs": [
    {
     "data": {
      "text/plain": [
       "['..\\\\data\\\\internim\\\\train_stemmed.pkl']"
      ]
     },
     "execution_count": 38,
     "metadata": {},
     "output_type": "execute_result"
    }
   ],
   "source": [
    "import joblib\n",
    "joblib.dump(df, r'..\\data\\internim\\train_stemmed.pkl')"
   ]
  }
 ],
 "metadata": {
  "kernelspec": {
   "display_name": "Python 3",
   "language": "python",
   "name": "python3"
  },
  "language_info": {
   "codemirror_mode": {
    "name": "ipython",
    "version": 3
   },
   "file_extension": ".py",
   "mimetype": "text/x-python",
   "name": "python",
   "nbconvert_exporter": "python",
   "pygments_lexer": "ipython3",
   "version": "3.11.9"
  }
 },
 "nbformat": 4,
 "nbformat_minor": 5
}
