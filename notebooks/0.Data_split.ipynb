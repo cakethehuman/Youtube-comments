{
 "cells": [
  {
   "cell_type": "code",
   "execution_count": 1,
   "id": "0739d392",
   "metadata": {},
   "outputs": [],
   "source": [
    "# Import required libraries.\n",
    "import joblib\n",
    "import pandas as pd\n",
    "\n",
    "from sklearn.model_selection import train_test_split"
   ]
  },
  {
   "cell_type": "code",
   "execution_count": 2,
   "id": "1779d174",
   "metadata": {},
   "outputs": [],
   "source": [
    "df = pd.read_csv(r\"..\\data\\raw\\YoutubeCommentsDataSet.csv\")"
   ]
  },
  {
   "cell_type": "code",
   "execution_count": 3,
   "id": "84d76a20",
   "metadata": {},
   "outputs": [
    {
     "data": {
      "application/vnd.microsoft.datawrangler.viewer.v0+json": {
       "columns": [
        {
         "name": "index",
         "rawType": "int64",
         "type": "integer"
        },
        {
         "name": "Comment",
         "rawType": "object",
         "type": "unknown"
        },
        {
         "name": "Sentiment",
         "rawType": "object",
         "type": "string"
        }
       ],
       "ref": "d44bd78d-8dd6-4fba-ac33-beac28317bbc",
       "rows": [
        [
         "0",
         "lets not forget that apple pay in 2014 required a brand new iphone in order to use it a significant portion of apples user base wasnt able to use it even if they wanted to as each successive iphone incorporated the technology and older iphones were replaced the number of people who could use the technology increased",
         "neutral"
        ],
        [
         "1",
         "here in nz 50 of retailers don’t even have contactless credit card machines like paywave which support apple pay they don’t like the high fees that come with these",
         "negative"
        ],
        [
         "2",
         "i will forever acknowledge this channel with the help of your lessons and ideas explanations now its quite helpful while youll just sit at your comfort and monitor your account growth",
         "positive"
        ],
        [
         "3",
         "whenever i go to a place that doesn’t take apple pay doesn’t happen too often it’s such a drag between ‘contactless covid’ habits and my getting the apple card i’ve gotten so used to apple pay that i get seriously annoyed when a store doesn’t take it it feels like a shock it’s crazy how quickly it took over my shopping routine i’ve officially been brainwashed by apple because now it feels so inconvenient to even carry a physical card in my pocket",
         "negative"
        ],
        [
         "4",
         "apple pay is so convenient secure and easy to use i used it while at the korean and japanese airports no need for physical credit cards",
         "positive"
        ],
        [
         "5",
         "we’ve been hounding my bank to adopt apple pay i understand why they don’t want to do it with the extra fees but its just so easy and quick at the checkout",
         "neutral"
        ],
        [
         "6",
         "we only got apple pay in south africa in 20202021 and it’s widely accepted",
         "positive"
        ],
        [
         "7",
         "for now i need both apple pay and the physical credit card",
         "neutral"
        ],
        [
         "8",
         "in the united states we have an abundance of retailers that accept apple pay but its still good to carry the physical card with you being there are still a large quantity of places that do not accept apple pay",
         "positive"
        ],
        [
         "9",
         "in cambodia we have a universal qr code system we scan and send money back and forth all banks take no profit from merchant they receive 100 of the payment a lot of stores and supermarkets start abandon pos machine all together",
         "neutral"
        ],
        [
         "10",
         "wow you really went to town on the psu test rack thats a serious bit of kit very flexible good choices wouldnt surprise me if choma start offering this bespoke rack to the psu makers they all watch your videos so theyll want to make sure it passes on this exact same rack you can really push the industry here well done open source the test interface hardware and software",
         "positive"
        ],
        [
         "11",
         "the lab is the most exciting thing in it ive seen for a while this is reallly going to shake up how the qualiity of even basic components are manufactured",
         "positive"
        ],
        [
         "12",
         "linus im an engineer and love the lmg content across all the channels very much looking forward to more lab content and hope your engineering team will get more on camera time and hosting roles",
         "positive"
        ],
        [
         "13",
         "there used to be a time where linus was the smartest guy in the room this video clearly shows that the team he has built are experts in their respective fields and make linus look like a child kudos to linus and lmg youve grown beyond what i imagined all the best",
         "positive"
        ],
        [
         "14",
         "holy crap i was looking at chroma systems back when i was designing power supplies looks like you guys went all out re the multimeter most oscilloscopes are terrible for making accurate voltage measurements 810 bit adcs they are just for looking at the waveforms",
         "negative"
        ],
        [
         "15",
         "i love the direction this channel is going most tech channels even the best trusted ones are going to review products based on their own experience or at most some things they can measure with their pc but youre really going to mathematically demonstrate if a product is a quality one and why it is love it",
         "positive"
        ],
        [
         "16",
         "i am more excited for the ltt lab than i have been for a lot of content for a while now as everyone seems to be saying its exciting to see how enthusiastic this new crew is to get things running",
         "positive"
        ],
        [
         "17",
         "i adore the working relationship linus has with his team 99 of employees walk on eggshells around their boss and i wish it could be more like this",
         "positive"
        ],
        [
         "18",
         "lmgs growth is honestly something to truly aspire for this is the content we want to watch more technical in depth engineering oriented and sciencebased content will make us consumers much much more educated on these topics thus when picking a product not only will we pick the best choice but well know exactly why we picked it which helps greatly with buyers remorse",
         "positive"
        ],
        [
         "19",
         "i love all the people ltt has added for labs clearly theyre knowledgeable and passionate about tech labs is gonna be killer love it",
         "positive"
        ],
        [
         "20",
         "linus just turn the key lights 180 and bounce them off the walls you’ll get a much softer glow and shadow and way more even lighting it’s such a simple fix i’m not sure where along the lines people got the idea to beam the lights directly at your face ",
         "positive"
        ],
        [
         "21",
         "dan continues to be my new favorite he has such an air of confidence about him and a comforting presence like dan shows up and you just know things are going to be fine",
         "positive"
        ],
        [
         "22",
         "dan managing to set up his soldering station on the one box they needed was incredibly amusing to me",
         "positive"
        ],
        [
         "23",
         "linus gets on his employees cases for all the stuff stolen from the office also linus proudly talks about all the stuff stolen from work hes using in his upgraded setup linus why are you using this monitor as a table also linus uses the monitor as a chair this video was hilarious",
         "positive"
        ],
        [
         "24",
         "linus this is not a table also linus lets use this as a chair",
         "neutral"
        ],
        [
         "25",
         "dan the man saving the day riley needs to give him his own theme like brian the electrician",
         "positive"
        ],
        [
         "26",
         "dan continues to be a favourite for me hes like the incredibly patient but longsuffering dad who just gets on with things",
         "positive"
        ],
        [
         "27",
         "dan is a treasure your channel has long lacked a mr fixit type and while i am sad its not me dan appears quite capable and funny",
         "positive"
        ],
        [
         "28",
         "blows my mind how quickly dan became the rock upon which all things linus standslove it",
         "positive"
        ],
        [
         "29",
         "hey linus a good trick for streaming lights bounce them off the wall much easier on the eyes and a nice softer look also for indoors id recommend a hypercardioid mic looks like a short shotgun like the audiotechnica at4053b",
         "positive"
        ],
        [
         "30",
         "unstoppable experiments with liquid nitrogen ",
         "positive"
        ],
        [
         "31",
         "one of the best things about dude is that he never takes credit for himself wheb he achieves something he always respect us the audience and his team and he is always polite is all of his videos we congratulate ourselves on this achievement more to come and everything to",
         "positive"
        ],
        [
         "32",
         "liquid nitrogen ഇതുവരെ തീർന്നില്ലേ മച്ചാനെ",
         "neutral"
        ],
        [
         "33",
         "liquid nitrogen never ends m4tech poli",
         "positive"
        ],
        [
         "34",
         "29minutes 48k views 93k likes  that is the power of m4tech",
         "positive"
        ],
        [
         "35",
         " കേരളത്തിൽ ആദ്യമായി പെട്രോളിനെ എയ്സ് ആക്കിയ m4tech മച്ചാന്മാർ ",
         "neutral"
        ],
        [
         "36",
         "epozhum safety is first priority goggles on",
         "positive"
        ],
        [
         "37",
         "congratulations m4tech for achieving 8 million subscribers",
         "positive"
        ],
        [
         "38",
         "തന്നെ തളർത്താൻ നോക്കിയവർ പോലും അവന്റെ ഉയർച്ചയിൽ പകച്ച് നിന്നു പോയി  കഷ്ടപ്പാടും അദ്ധ്വാനവുംകൊണ്ട് 2 പേർ പടുത്തുയർത്തിയ ചാനൽ m4 tech ",
         "neutral"
        ],
        [
         "39",
         "എത്ര എടുത്താലും തീരാത്ത liquid nitrogen ",
         "neutral"
        ],
        [
         "40",
         "guys a quick note that you do not need all the highend tech in order to do well at college if you can and you should save as much money as you can while at college pay your tuition in full and student loans as soon as possible instead of spending on liabilities like gadgets get the bare minimum you need and only spend money on products you know you are going to be using for 46 years such as laptop dont overspend on phone headphones lamps tablets etc",
         "neutral"
        ],
        [
         "41",
         "this is hilarious i was in a focus group over 4 years ago for best buy where they were asking college students how to advertise for back to school one of the kids next to me said maybe you should have someone like mkbhd talk about your products well here we are",
         "neutral"
        ],
        [
         "42",
         "everyone has been saying it but i’ll throw my hat in as well to any prospective college students you do not need to spend money on flagship products i am about to graduate with a business degree and have been using a 7 year old laptop and the base ipad from late 2020 both products have worked flawlessly and i have no intention of replacing them the recommendations listed are ones i would never be able to afford even with my job i’m working as well do your own research on forums to see what your peers say the best value product is i promise that if you buy a flagship product you will quickly see that you did not need it",
         "positive"
        ],
        [
         "43",
         "shoutout to my oneplus phone and huawei laptop for getting me through university feeling premium for much less bonus ups for ikeas articulating lamps 20 and i can see all my homework incredibly well without eye strain the old door i refinished to use as a desktop and wired earbuds under hardware store earmuffs as my noisecancelling headphones and the same 2 sets of hanes underwear from target for also lasting the whole ride",
         "positive"
        ],
        [
         "44",
         "best buy we want to sponsor a back to school type video but you can only push the high end stuff marques say less",
         "neutral"
        ],
        [
         "45",
         "most of the items you recommend are pretty pricey for a student im not a student myself anymore but if i were one more budget alternatives would make this video a lot better",
         "neutral"
        ],
        [
         "46",
         "you dont necessarily need the highend and latest tech for university i used a 2009 macbook pro throughout my years at uni had an iphone 6 and it worked out just fine whats important is to remain focused on getting that degree and graduating",
         "positive"
        ],
        [
         "47",
         "personally i feel like this is really out of touch most students wont be able to afford these in case anyone needs it i believe dave2ds back to school video are honestly the best ones ive seen on the topic consider checking them out too before making a purchase decision",
         "positive"
        ],
        [
         "48",
         "hey everyone good take on the video and love the recommendations if you plan on making another video such as this maybe you can also include some more budget options and best value options what i can tell from my years of studying in college and university is that your tech and needs will be based on what coursesprogramme you took for your education engineering students require computer specs that can run bim software im not sure about the other programmes but from what i can see that most students at my place has 8gb of ram for their laptops also here is my setup during my university years hope it can help anyone who are looking to buy something for their collegeuniversity years all the best laptop asus x455l upgraded to ssd with additional ram phone vivo y69redmi 10samsung a22 4g mouse logitech g102 keyboard tecware tkl ver",
         "positive"
        ],
        [
         "49",
         "i have used galaxy tab s7 during my phd its been a lifesaver for me first of all it is really good for reading journals note taking and scribbling on the pdfs secondly it doesnt strain your eye that much when you use a computer or a laptop always at a fixed distance thirdly you get the premium version of noteshelf free with tab s7 and lastly if you are from a stem background and use a lot of illustrations or flow process diagrams you can draw those easily with the stylus on tab s7 i choose tab s7 over apple ipad air for its ease of use user interface and cost you get stylus for free with tab s7 and in most cases keyboard too with a huge student discount",
         "positive"
        ]
       ],
       "shape": {
        "columns": 2,
        "rows": 18408
       }
      },
      "text/html": [
       "<div>\n",
       "<style scoped>\n",
       "    .dataframe tbody tr th:only-of-type {\n",
       "        vertical-align: middle;\n",
       "    }\n",
       "\n",
       "    .dataframe tbody tr th {\n",
       "        vertical-align: top;\n",
       "    }\n",
       "\n",
       "    .dataframe thead th {\n",
       "        text-align: right;\n",
       "    }\n",
       "</style>\n",
       "<table border=\"1\" class=\"dataframe\">\n",
       "  <thead>\n",
       "    <tr style=\"text-align: right;\">\n",
       "      <th></th>\n",
       "      <th>Comment</th>\n",
       "      <th>Sentiment</th>\n",
       "    </tr>\n",
       "  </thead>\n",
       "  <tbody>\n",
       "    <tr>\n",
       "      <th>0</th>\n",
       "      <td>lets not forget that apple pay in 2014 require...</td>\n",
       "      <td>neutral</td>\n",
       "    </tr>\n",
       "    <tr>\n",
       "      <th>1</th>\n",
       "      <td>here in nz 50 of retailers don’t even have con...</td>\n",
       "      <td>negative</td>\n",
       "    </tr>\n",
       "    <tr>\n",
       "      <th>2</th>\n",
       "      <td>i will forever acknowledge this channel with t...</td>\n",
       "      <td>positive</td>\n",
       "    </tr>\n",
       "    <tr>\n",
       "      <th>3</th>\n",
       "      <td>whenever i go to a place that doesn’t take app...</td>\n",
       "      <td>negative</td>\n",
       "    </tr>\n",
       "    <tr>\n",
       "      <th>4</th>\n",
       "      <td>apple pay is so convenient secure and easy to ...</td>\n",
       "      <td>positive</td>\n",
       "    </tr>\n",
       "    <tr>\n",
       "      <th>...</th>\n",
       "      <td>...</td>\n",
       "      <td>...</td>\n",
       "    </tr>\n",
       "    <tr>\n",
       "      <th>18403</th>\n",
       "      <td>i really like the point about engineering tool...</td>\n",
       "      <td>positive</td>\n",
       "    </tr>\n",
       "    <tr>\n",
       "      <th>18404</th>\n",
       "      <td>i’ve just started exploring this field and thi...</td>\n",
       "      <td>positive</td>\n",
       "    </tr>\n",
       "    <tr>\n",
       "      <th>18405</th>\n",
       "      <td>excelente video con una pregunta filosófica pr...</td>\n",
       "      <td>neutral</td>\n",
       "    </tr>\n",
       "    <tr>\n",
       "      <th>18406</th>\n",
       "      <td>hey daniel just discovered your channel a coup...</td>\n",
       "      <td>positive</td>\n",
       "    </tr>\n",
       "    <tr>\n",
       "      <th>18407</th>\n",
       "      <td>this is great focus is key a playful approach ...</td>\n",
       "      <td>positive</td>\n",
       "    </tr>\n",
       "  </tbody>\n",
       "</table>\n",
       "<p>18408 rows × 2 columns</p>\n",
       "</div>"
      ],
      "text/plain": [
       "                                                 Comment Sentiment\n",
       "0      lets not forget that apple pay in 2014 require...   neutral\n",
       "1      here in nz 50 of retailers don’t even have con...  negative\n",
       "2      i will forever acknowledge this channel with t...  positive\n",
       "3      whenever i go to a place that doesn’t take app...  negative\n",
       "4      apple pay is so convenient secure and easy to ...  positive\n",
       "...                                                  ...       ...\n",
       "18403  i really like the point about engineering tool...  positive\n",
       "18404  i’ve just started exploring this field and thi...  positive\n",
       "18405  excelente video con una pregunta filosófica pr...   neutral\n",
       "18406  hey daniel just discovered your channel a coup...  positive\n",
       "18407  this is great focus is key a playful approach ...  positive\n",
       "\n",
       "[18408 rows x 2 columns]"
      ]
     },
     "execution_count": 3,
     "metadata": {},
     "output_type": "execute_result"
    }
   ],
   "source": [
    "df"
   ]
  },
  {
   "cell_type": "code",
   "execution_count": 4,
   "id": "f4aecb55",
   "metadata": {},
   "outputs": [],
   "source": [
    "df[\"Sentiment\"] = df[\"Sentiment\"].map({\"neutral\" : 1, 'negative' : 0, \"positive\" : 2 })"
   ]
  },
  {
   "cell_type": "code",
   "execution_count": 5,
   "id": "1e5bb3b8",
   "metadata": {},
   "outputs": [
    {
     "data": {
      "application/vnd.microsoft.datawrangler.viewer.v0+json": {
       "columns": [
        {
         "name": "index",
         "rawType": "int64",
         "type": "integer"
        },
        {
         "name": "Comment",
         "rawType": "object",
         "type": "unknown"
        },
        {
         "name": "Sentiment",
         "rawType": "int64",
         "type": "integer"
        }
       ],
       "ref": "97add213-33ee-4c92-858f-b084a7745d55",
       "rows": [
        [
         "0",
         "lets not forget that apple pay in 2014 required a brand new iphone in order to use it a significant portion of apples user base wasnt able to use it even if they wanted to as each successive iphone incorporated the technology and older iphones were replaced the number of people who could use the technology increased",
         "1"
        ],
        [
         "1",
         "here in nz 50 of retailers don’t even have contactless credit card machines like paywave which support apple pay they don’t like the high fees that come with these",
         "0"
        ],
        [
         "2",
         "i will forever acknowledge this channel with the help of your lessons and ideas explanations now its quite helpful while youll just sit at your comfort and monitor your account growth",
         "2"
        ],
        [
         "3",
         "whenever i go to a place that doesn’t take apple pay doesn’t happen too often it’s such a drag between ‘contactless covid’ habits and my getting the apple card i’ve gotten so used to apple pay that i get seriously annoyed when a store doesn’t take it it feels like a shock it’s crazy how quickly it took over my shopping routine i’ve officially been brainwashed by apple because now it feels so inconvenient to even carry a physical card in my pocket",
         "0"
        ],
        [
         "4",
         "apple pay is so convenient secure and easy to use i used it while at the korean and japanese airports no need for physical credit cards",
         "2"
        ],
        [
         "5",
         "we’ve been hounding my bank to adopt apple pay i understand why they don’t want to do it with the extra fees but its just so easy and quick at the checkout",
         "1"
        ],
        [
         "6",
         "we only got apple pay in south africa in 20202021 and it’s widely accepted",
         "2"
        ],
        [
         "7",
         "for now i need both apple pay and the physical credit card",
         "1"
        ],
        [
         "8",
         "in the united states we have an abundance of retailers that accept apple pay but its still good to carry the physical card with you being there are still a large quantity of places that do not accept apple pay",
         "2"
        ],
        [
         "9",
         "in cambodia we have a universal qr code system we scan and send money back and forth all banks take no profit from merchant they receive 100 of the payment a lot of stores and supermarkets start abandon pos machine all together",
         "1"
        ],
        [
         "10",
         "wow you really went to town on the psu test rack thats a serious bit of kit very flexible good choices wouldnt surprise me if choma start offering this bespoke rack to the psu makers they all watch your videos so theyll want to make sure it passes on this exact same rack you can really push the industry here well done open source the test interface hardware and software",
         "2"
        ],
        [
         "11",
         "the lab is the most exciting thing in it ive seen for a while this is reallly going to shake up how the qualiity of even basic components are manufactured",
         "2"
        ],
        [
         "12",
         "linus im an engineer and love the lmg content across all the channels very much looking forward to more lab content and hope your engineering team will get more on camera time and hosting roles",
         "2"
        ],
        [
         "13",
         "there used to be a time where linus was the smartest guy in the room this video clearly shows that the team he has built are experts in their respective fields and make linus look like a child kudos to linus and lmg youve grown beyond what i imagined all the best",
         "2"
        ],
        [
         "14",
         "holy crap i was looking at chroma systems back when i was designing power supplies looks like you guys went all out re the multimeter most oscilloscopes are terrible for making accurate voltage measurements 810 bit adcs they are just for looking at the waveforms",
         "0"
        ],
        [
         "15",
         "i love the direction this channel is going most tech channels even the best trusted ones are going to review products based on their own experience or at most some things they can measure with their pc but youre really going to mathematically demonstrate if a product is a quality one and why it is love it",
         "2"
        ],
        [
         "16",
         "i am more excited for the ltt lab than i have been for a lot of content for a while now as everyone seems to be saying its exciting to see how enthusiastic this new crew is to get things running",
         "2"
        ],
        [
         "17",
         "i adore the working relationship linus has with his team 99 of employees walk on eggshells around their boss and i wish it could be more like this",
         "2"
        ],
        [
         "18",
         "lmgs growth is honestly something to truly aspire for this is the content we want to watch more technical in depth engineering oriented and sciencebased content will make us consumers much much more educated on these topics thus when picking a product not only will we pick the best choice but well know exactly why we picked it which helps greatly with buyers remorse",
         "2"
        ],
        [
         "19",
         "i love all the people ltt has added for labs clearly theyre knowledgeable and passionate about tech labs is gonna be killer love it",
         "2"
        ],
        [
         "20",
         "linus just turn the key lights 180 and bounce them off the walls you’ll get a much softer glow and shadow and way more even lighting it’s such a simple fix i’m not sure where along the lines people got the idea to beam the lights directly at your face ",
         "2"
        ],
        [
         "21",
         "dan continues to be my new favorite he has such an air of confidence about him and a comforting presence like dan shows up and you just know things are going to be fine",
         "2"
        ],
        [
         "22",
         "dan managing to set up his soldering station on the one box they needed was incredibly amusing to me",
         "2"
        ],
        [
         "23",
         "linus gets on his employees cases for all the stuff stolen from the office also linus proudly talks about all the stuff stolen from work hes using in his upgraded setup linus why are you using this monitor as a table also linus uses the monitor as a chair this video was hilarious",
         "2"
        ],
        [
         "24",
         "linus this is not a table also linus lets use this as a chair",
         "1"
        ],
        [
         "25",
         "dan the man saving the day riley needs to give him his own theme like brian the electrician",
         "2"
        ],
        [
         "26",
         "dan continues to be a favourite for me hes like the incredibly patient but longsuffering dad who just gets on with things",
         "2"
        ],
        [
         "27",
         "dan is a treasure your channel has long lacked a mr fixit type and while i am sad its not me dan appears quite capable and funny",
         "2"
        ],
        [
         "28",
         "blows my mind how quickly dan became the rock upon which all things linus standslove it",
         "2"
        ],
        [
         "29",
         "hey linus a good trick for streaming lights bounce them off the wall much easier on the eyes and a nice softer look also for indoors id recommend a hypercardioid mic looks like a short shotgun like the audiotechnica at4053b",
         "2"
        ],
        [
         "30",
         "unstoppable experiments with liquid nitrogen ",
         "2"
        ],
        [
         "31",
         "one of the best things about dude is that he never takes credit for himself wheb he achieves something he always respect us the audience and his team and he is always polite is all of his videos we congratulate ourselves on this achievement more to come and everything to",
         "2"
        ],
        [
         "32",
         "liquid nitrogen ഇതുവരെ തീർന്നില്ലേ മച്ചാനെ",
         "1"
        ],
        [
         "33",
         "liquid nitrogen never ends m4tech poli",
         "2"
        ],
        [
         "34",
         "29minutes 48k views 93k likes  that is the power of m4tech",
         "2"
        ],
        [
         "35",
         " കേരളത്തിൽ ആദ്യമായി പെട്രോളിനെ എയ്സ് ആക്കിയ m4tech മച്ചാന്മാർ ",
         "1"
        ],
        [
         "36",
         "epozhum safety is first priority goggles on",
         "2"
        ],
        [
         "37",
         "congratulations m4tech for achieving 8 million subscribers",
         "2"
        ],
        [
         "38",
         "തന്നെ തളർത്താൻ നോക്കിയവർ പോലും അവന്റെ ഉയർച്ചയിൽ പകച്ച് നിന്നു പോയി  കഷ്ടപ്പാടും അദ്ധ്വാനവുംകൊണ്ട് 2 പേർ പടുത്തുയർത്തിയ ചാനൽ m4 tech ",
         "1"
        ],
        [
         "39",
         "എത്ര എടുത്താലും തീരാത്ത liquid nitrogen ",
         "1"
        ],
        [
         "40",
         "guys a quick note that you do not need all the highend tech in order to do well at college if you can and you should save as much money as you can while at college pay your tuition in full and student loans as soon as possible instead of spending on liabilities like gadgets get the bare minimum you need and only spend money on products you know you are going to be using for 46 years such as laptop dont overspend on phone headphones lamps tablets etc",
         "1"
        ],
        [
         "41",
         "this is hilarious i was in a focus group over 4 years ago for best buy where they were asking college students how to advertise for back to school one of the kids next to me said maybe you should have someone like mkbhd talk about your products well here we are",
         "1"
        ],
        [
         "42",
         "everyone has been saying it but i’ll throw my hat in as well to any prospective college students you do not need to spend money on flagship products i am about to graduate with a business degree and have been using a 7 year old laptop and the base ipad from late 2020 both products have worked flawlessly and i have no intention of replacing them the recommendations listed are ones i would never be able to afford even with my job i’m working as well do your own research on forums to see what your peers say the best value product is i promise that if you buy a flagship product you will quickly see that you did not need it",
         "2"
        ],
        [
         "43",
         "shoutout to my oneplus phone and huawei laptop for getting me through university feeling premium for much less bonus ups for ikeas articulating lamps 20 and i can see all my homework incredibly well without eye strain the old door i refinished to use as a desktop and wired earbuds under hardware store earmuffs as my noisecancelling headphones and the same 2 sets of hanes underwear from target for also lasting the whole ride",
         "2"
        ],
        [
         "44",
         "best buy we want to sponsor a back to school type video but you can only push the high end stuff marques say less",
         "1"
        ],
        [
         "45",
         "most of the items you recommend are pretty pricey for a student im not a student myself anymore but if i were one more budget alternatives would make this video a lot better",
         "1"
        ],
        [
         "46",
         "you dont necessarily need the highend and latest tech for university i used a 2009 macbook pro throughout my years at uni had an iphone 6 and it worked out just fine whats important is to remain focused on getting that degree and graduating",
         "2"
        ],
        [
         "47",
         "personally i feel like this is really out of touch most students wont be able to afford these in case anyone needs it i believe dave2ds back to school video are honestly the best ones ive seen on the topic consider checking them out too before making a purchase decision",
         "2"
        ],
        [
         "48",
         "hey everyone good take on the video and love the recommendations if you plan on making another video such as this maybe you can also include some more budget options and best value options what i can tell from my years of studying in college and university is that your tech and needs will be based on what coursesprogramme you took for your education engineering students require computer specs that can run bim software im not sure about the other programmes but from what i can see that most students at my place has 8gb of ram for their laptops also here is my setup during my university years hope it can help anyone who are looking to buy something for their collegeuniversity years all the best laptop asus x455l upgraded to ssd with additional ram phone vivo y69redmi 10samsung a22 4g mouse logitech g102 keyboard tecware tkl ver",
         "2"
        ],
        [
         "49",
         "i have used galaxy tab s7 during my phd its been a lifesaver for me first of all it is really good for reading journals note taking and scribbling on the pdfs secondly it doesnt strain your eye that much when you use a computer or a laptop always at a fixed distance thirdly you get the premium version of noteshelf free with tab s7 and lastly if you are from a stem background and use a lot of illustrations or flow process diagrams you can draw those easily with the stylus on tab s7 i choose tab s7 over apple ipad air for its ease of use user interface and cost you get stylus for free with tab s7 and in most cases keyboard too with a huge student discount",
         "2"
        ]
       ],
       "shape": {
        "columns": 2,
        "rows": 18408
       }
      },
      "text/html": [
       "<div>\n",
       "<style scoped>\n",
       "    .dataframe tbody tr th:only-of-type {\n",
       "        vertical-align: middle;\n",
       "    }\n",
       "\n",
       "    .dataframe tbody tr th {\n",
       "        vertical-align: top;\n",
       "    }\n",
       "\n",
       "    .dataframe thead th {\n",
       "        text-align: right;\n",
       "    }\n",
       "</style>\n",
       "<table border=\"1\" class=\"dataframe\">\n",
       "  <thead>\n",
       "    <tr style=\"text-align: right;\">\n",
       "      <th></th>\n",
       "      <th>Comment</th>\n",
       "      <th>Sentiment</th>\n",
       "    </tr>\n",
       "  </thead>\n",
       "  <tbody>\n",
       "    <tr>\n",
       "      <th>0</th>\n",
       "      <td>lets not forget that apple pay in 2014 require...</td>\n",
       "      <td>1</td>\n",
       "    </tr>\n",
       "    <tr>\n",
       "      <th>1</th>\n",
       "      <td>here in nz 50 of retailers don’t even have con...</td>\n",
       "      <td>0</td>\n",
       "    </tr>\n",
       "    <tr>\n",
       "      <th>2</th>\n",
       "      <td>i will forever acknowledge this channel with t...</td>\n",
       "      <td>2</td>\n",
       "    </tr>\n",
       "    <tr>\n",
       "      <th>3</th>\n",
       "      <td>whenever i go to a place that doesn’t take app...</td>\n",
       "      <td>0</td>\n",
       "    </tr>\n",
       "    <tr>\n",
       "      <th>4</th>\n",
       "      <td>apple pay is so convenient secure and easy to ...</td>\n",
       "      <td>2</td>\n",
       "    </tr>\n",
       "    <tr>\n",
       "      <th>...</th>\n",
       "      <td>...</td>\n",
       "      <td>...</td>\n",
       "    </tr>\n",
       "    <tr>\n",
       "      <th>18403</th>\n",
       "      <td>i really like the point about engineering tool...</td>\n",
       "      <td>2</td>\n",
       "    </tr>\n",
       "    <tr>\n",
       "      <th>18404</th>\n",
       "      <td>i’ve just started exploring this field and thi...</td>\n",
       "      <td>2</td>\n",
       "    </tr>\n",
       "    <tr>\n",
       "      <th>18405</th>\n",
       "      <td>excelente video con una pregunta filosófica pr...</td>\n",
       "      <td>1</td>\n",
       "    </tr>\n",
       "    <tr>\n",
       "      <th>18406</th>\n",
       "      <td>hey daniel just discovered your channel a coup...</td>\n",
       "      <td>2</td>\n",
       "    </tr>\n",
       "    <tr>\n",
       "      <th>18407</th>\n",
       "      <td>this is great focus is key a playful approach ...</td>\n",
       "      <td>2</td>\n",
       "    </tr>\n",
       "  </tbody>\n",
       "</table>\n",
       "<p>18408 rows × 2 columns</p>\n",
       "</div>"
      ],
      "text/plain": [
       "                                                 Comment  Sentiment\n",
       "0      lets not forget that apple pay in 2014 require...          1\n",
       "1      here in nz 50 of retailers don’t even have con...          0\n",
       "2      i will forever acknowledge this channel with t...          2\n",
       "3      whenever i go to a place that doesn’t take app...          0\n",
       "4      apple pay is so convenient secure and easy to ...          2\n",
       "...                                                  ...        ...\n",
       "18403  i really like the point about engineering tool...          2\n",
       "18404  i’ve just started exploring this field and thi...          2\n",
       "18405  excelente video con una pregunta filosófica pr...          1\n",
       "18406  hey daniel just discovered your channel a coup...          2\n",
       "18407  this is great focus is key a playful approach ...          2\n",
       "\n",
       "[18408 rows x 2 columns]"
      ]
     },
     "execution_count": 5,
     "metadata": {},
     "output_type": "execute_result"
    }
   ],
   "source": [
    "df"
   ]
  },
  {
   "cell_type": "code",
   "execution_count": 6,
   "id": "456a6866",
   "metadata": {},
   "outputs": [],
   "source": [
    "X = df[[\"Comment\"]]\n",
    "y = df[\"Sentiment\"]"
   ]
  },
  {
   "cell_type": "code",
   "execution_count": 7,
   "id": "85fe6177",
   "metadata": {},
   "outputs": [],
   "source": [
    "X_train,x_test,y_train,y_test = train_test_split(X,y, train_size = 0.8, random_state = 42)"
   ]
  },
  {
   "cell_type": "code",
   "execution_count": 9,
   "id": "597996d2",
   "metadata": {},
   "outputs": [
    {
     "name": "stdout",
     "output_type": "stream",
     "text": [
      "(14726, 1)\n",
      "(3682, 1)\n",
      "(14726,)\n",
      "(3682,)\n"
     ]
    }
   ],
   "source": [
    "print(X_train.shape)\n",
    "print(x_test.shape)\n",
    "print(y_train.shape)\n",
    "print(y_test.shape)"
   ]
  },
  {
   "cell_type": "code",
   "execution_count": 10,
   "id": "ed1403e4",
   "metadata": {},
   "outputs": [
    {
     "data": {
      "text/plain": [
       "['..\\\\data\\\\internim\\\\y_test.pkl']"
      ]
     },
     "execution_count": 10,
     "metadata": {},
     "output_type": "execute_result"
    }
   ],
   "source": [
    "joblib.dump(X_train, \"..\\data\\internim\\X_train.pkl\")\n",
    "joblib.dump(x_test, \"..\\data\\internim\\X_test.pkl\")\n",
    "joblib.dump(y_train, \"..\\data\\internim\\y_train.pkl\")\n",
    "joblib.dump(y_test, \"..\\data\\internim\\y_test.pkl\")"
   ]
  },
  {
   "cell_type": "code",
   "execution_count": 16,
   "id": "a089c6aa",
   "metadata": {},
   "outputs": [
    {
     "data": {
      "application/vnd.microsoft.datawrangler.viewer.v0+json": {
       "columns": [
        {
         "name": "index",
         "rawType": "int64",
         "type": "integer"
        },
        {
         "name": "Sentiment",
         "rawType": "int64",
         "type": "integer"
        }
       ],
       "ref": "2be8c2f2-fe03-4a5b-a404-b21c21a76792",
       "rows": [
        [
         "12791",
         "2"
        ],
        [
         "3097",
         "2"
        ],
        [
         "16982",
         "2"
        ],
        [
         "7708",
         "1"
        ],
        [
         "7144",
         "1"
        ],
        [
         "10508",
         "2"
        ],
        [
         "15063",
         "2"
        ],
        [
         "9912",
         "2"
        ],
        [
         "14572",
         "2"
        ],
        [
         "11735",
         "2"
        ],
        [
         "13320",
         "0"
        ],
        [
         "7113",
         "2"
        ],
        [
         "750",
         "2"
        ],
        [
         "15035",
         "2"
        ],
        [
         "1190",
         "1"
        ],
        [
         "17619",
         "0"
        ],
        [
         "5175",
         "2"
        ],
        [
         "16791",
         "2"
        ],
        [
         "5514",
         "1"
        ],
        [
         "6544",
         "2"
        ],
        [
         "11674",
         "1"
        ],
        [
         "15093",
         "2"
        ],
        [
         "17220",
         "2"
        ],
        [
         "11451",
         "2"
        ],
        [
         "18360",
         "1"
        ],
        [
         "4205",
         "2"
        ],
        [
         "16156",
         "0"
        ],
        [
         "7873",
         "2"
        ],
        [
         "6108",
         "1"
        ],
        [
         "13476",
         "2"
        ],
        [
         "817",
         "2"
        ],
        [
         "9098",
         "2"
        ],
        [
         "1066",
         "2"
        ],
        [
         "16867",
         "1"
        ],
        [
         "13668",
         "2"
        ],
        [
         "8608",
         "2"
        ],
        [
         "1310",
         "2"
        ],
        [
         "7575",
         "2"
        ],
        [
         "14709",
         "1"
        ],
        [
         "18100",
         "2"
        ],
        [
         "10420",
         "2"
        ],
        [
         "6259",
         "0"
        ],
        [
         "4246",
         "2"
        ],
        [
         "16188",
         "1"
        ],
        [
         "10910",
         "2"
        ],
        [
         "4894",
         "2"
        ],
        [
         "6036",
         "2"
        ],
        [
         "13163",
         "0"
        ],
        [
         "14685",
         "2"
        ],
        [
         "10199",
         "2"
        ]
       ],
       "shape": {
        "columns": 1,
        "rows": 14726
       }
      },
      "text/plain": [
       "12791    2\n",
       "3097     2\n",
       "16982    2\n",
       "7708     1\n",
       "7144     1\n",
       "        ..\n",
       "11284    1\n",
       "11964    2\n",
       "5390     1\n",
       "860      2\n",
       "15795    1\n",
       "Name: Sentiment, Length: 14726, dtype: int64"
      ]
     },
     "execution_count": 16,
     "metadata": {},
     "output_type": "execute_result"
    }
   ],
   "source": [
    "import pickle\n",
    "joblib.load(r\"..\\data\\internim\\y_train.pkl\")"
   ]
  }
 ],
 "metadata": {
  "kernelspec": {
   "display_name": "Python 3",
   "language": "python",
   "name": "python3"
  },
  "language_info": {
   "codemirror_mode": {
    "name": "ipython",
    "version": 3
   },
   "file_extension": ".py",
   "mimetype": "text/x-python",
   "name": "python",
   "nbconvert_exporter": "python",
   "pygments_lexer": "ipython3",
   "version": "3.11.9"
  }
 },
 "nbformat": 4,
 "nbformat_minor": 5
}
